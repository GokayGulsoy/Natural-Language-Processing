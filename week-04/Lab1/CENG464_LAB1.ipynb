{
  "nbformat": 4,
  "nbformat_minor": 0,
  "metadata": {
    "colab": {
      "provenance": [],
      "toc_visible": true
    },
    "kernelspec": {
      "name": "python3",
      "display_name": "Python 3"
    },
    "language_info": {
      "name": "python"
    },
    "widgets": {
      "application/vnd.jupyter.widget-state+json": {
        "2a4170d6e97e43d3adff6ab9fe5044cf": {
          "model_module": "@jupyter-widgets/controls",
          "model_name": "HBoxModel",
          "model_module_version": "1.5.0",
          "state": {
            "_dom_classes": [],
            "_model_module": "@jupyter-widgets/controls",
            "_model_module_version": "1.5.0",
            "_model_name": "HBoxModel",
            "_view_count": null,
            "_view_module": "@jupyter-widgets/controls",
            "_view_module_version": "1.5.0",
            "_view_name": "HBoxView",
            "box_style": "",
            "children": [
              "IPY_MODEL_f0e0577f46144b29b76d90bff685cd4b",
              "IPY_MODEL_6c173b0d92114374b71756a9d35f0928",
              "IPY_MODEL_409e81d5819f46198f48aa67a151589e"
            ],
            "layout": "IPY_MODEL_350d8824a15745398eac8399ece6026f"
          }
        },
        "f0e0577f46144b29b76d90bff685cd4b": {
          "model_module": "@jupyter-widgets/controls",
          "model_name": "HTMLModel",
          "model_module_version": "1.5.0",
          "state": {
            "_dom_classes": [],
            "_model_module": "@jupyter-widgets/controls",
            "_model_module_version": "1.5.0",
            "_model_name": "HTMLModel",
            "_view_count": null,
            "_view_module": "@jupyter-widgets/controls",
            "_view_module_version": "1.5.0",
            "_view_name": "HTMLView",
            "description": "",
            "description_tooltip": null,
            "layout": "IPY_MODEL_8e764ecfb10149beac77d7fe96869057",
            "placeholder": "​",
            "style": "IPY_MODEL_9aa5f41f5a5f4a49ad4b0fb32a2012c2",
            "value": "config.json: 100%"
          }
        },
        "6c173b0d92114374b71756a9d35f0928": {
          "model_module": "@jupyter-widgets/controls",
          "model_name": "FloatProgressModel",
          "model_module_version": "1.5.0",
          "state": {
            "_dom_classes": [],
            "_model_module": "@jupyter-widgets/controls",
            "_model_module_version": "1.5.0",
            "_model_name": "FloatProgressModel",
            "_view_count": null,
            "_view_module": "@jupyter-widgets/controls",
            "_view_module_version": "1.5.0",
            "_view_name": "ProgressView",
            "bar_style": "success",
            "description": "",
            "description_tooltip": null,
            "layout": "IPY_MODEL_06b7f53c53834f6db3f8172faefd60c3",
            "max": 665,
            "min": 0,
            "orientation": "horizontal",
            "style": "IPY_MODEL_518365e0b3454d5487e0b523285f5339",
            "value": 665
          }
        },
        "409e81d5819f46198f48aa67a151589e": {
          "model_module": "@jupyter-widgets/controls",
          "model_name": "HTMLModel",
          "model_module_version": "1.5.0",
          "state": {
            "_dom_classes": [],
            "_model_module": "@jupyter-widgets/controls",
            "_model_module_version": "1.5.0",
            "_model_name": "HTMLModel",
            "_view_count": null,
            "_view_module": "@jupyter-widgets/controls",
            "_view_module_version": "1.5.0",
            "_view_name": "HTMLView",
            "description": "",
            "description_tooltip": null,
            "layout": "IPY_MODEL_a1ec43f6881944fcb50b85307378e04f",
            "placeholder": "​",
            "style": "IPY_MODEL_ed348221628840caafeea845d8176dc9",
            "value": " 665/665 [00:00&lt;00:00, 12.6kB/s]"
          }
        },
        "350d8824a15745398eac8399ece6026f": {
          "model_module": "@jupyter-widgets/base",
          "model_name": "LayoutModel",
          "model_module_version": "1.2.0",
          "state": {
            "_model_module": "@jupyter-widgets/base",
            "_model_module_version": "1.2.0",
            "_model_name": "LayoutModel",
            "_view_count": null,
            "_view_module": "@jupyter-widgets/base",
            "_view_module_version": "1.2.0",
            "_view_name": "LayoutView",
            "align_content": null,
            "align_items": null,
            "align_self": null,
            "border": null,
            "bottom": null,
            "display": null,
            "flex": null,
            "flex_flow": null,
            "grid_area": null,
            "grid_auto_columns": null,
            "grid_auto_flow": null,
            "grid_auto_rows": null,
            "grid_column": null,
            "grid_gap": null,
            "grid_row": null,
            "grid_template_areas": null,
            "grid_template_columns": null,
            "grid_template_rows": null,
            "height": null,
            "justify_content": null,
            "justify_items": null,
            "left": null,
            "margin": null,
            "max_height": null,
            "max_width": null,
            "min_height": null,
            "min_width": null,
            "object_fit": null,
            "object_position": null,
            "order": null,
            "overflow": null,
            "overflow_x": null,
            "overflow_y": null,
            "padding": null,
            "right": null,
            "top": null,
            "visibility": null,
            "width": null
          }
        },
        "8e764ecfb10149beac77d7fe96869057": {
          "model_module": "@jupyter-widgets/base",
          "model_name": "LayoutModel",
          "model_module_version": "1.2.0",
          "state": {
            "_model_module": "@jupyter-widgets/base",
            "_model_module_version": "1.2.0",
            "_model_name": "LayoutModel",
            "_view_count": null,
            "_view_module": "@jupyter-widgets/base",
            "_view_module_version": "1.2.0",
            "_view_name": "LayoutView",
            "align_content": null,
            "align_items": null,
            "align_self": null,
            "border": null,
            "bottom": null,
            "display": null,
            "flex": null,
            "flex_flow": null,
            "grid_area": null,
            "grid_auto_columns": null,
            "grid_auto_flow": null,
            "grid_auto_rows": null,
            "grid_column": null,
            "grid_gap": null,
            "grid_row": null,
            "grid_template_areas": null,
            "grid_template_columns": null,
            "grid_template_rows": null,
            "height": null,
            "justify_content": null,
            "justify_items": null,
            "left": null,
            "margin": null,
            "max_height": null,
            "max_width": null,
            "min_height": null,
            "min_width": null,
            "object_fit": null,
            "object_position": null,
            "order": null,
            "overflow": null,
            "overflow_x": null,
            "overflow_y": null,
            "padding": null,
            "right": null,
            "top": null,
            "visibility": null,
            "width": null
          }
        },
        "9aa5f41f5a5f4a49ad4b0fb32a2012c2": {
          "model_module": "@jupyter-widgets/controls",
          "model_name": "DescriptionStyleModel",
          "model_module_version": "1.5.0",
          "state": {
            "_model_module": "@jupyter-widgets/controls",
            "_model_module_version": "1.5.0",
            "_model_name": "DescriptionStyleModel",
            "_view_count": null,
            "_view_module": "@jupyter-widgets/base",
            "_view_module_version": "1.2.0",
            "_view_name": "StyleView",
            "description_width": ""
          }
        },
        "06b7f53c53834f6db3f8172faefd60c3": {
          "model_module": "@jupyter-widgets/base",
          "model_name": "LayoutModel",
          "model_module_version": "1.2.0",
          "state": {
            "_model_module": "@jupyter-widgets/base",
            "_model_module_version": "1.2.0",
            "_model_name": "LayoutModel",
            "_view_count": null,
            "_view_module": "@jupyter-widgets/base",
            "_view_module_version": "1.2.0",
            "_view_name": "LayoutView",
            "align_content": null,
            "align_items": null,
            "align_self": null,
            "border": null,
            "bottom": null,
            "display": null,
            "flex": null,
            "flex_flow": null,
            "grid_area": null,
            "grid_auto_columns": null,
            "grid_auto_flow": null,
            "grid_auto_rows": null,
            "grid_column": null,
            "grid_gap": null,
            "grid_row": null,
            "grid_template_areas": null,
            "grid_template_columns": null,
            "grid_template_rows": null,
            "height": null,
            "justify_content": null,
            "justify_items": null,
            "left": null,
            "margin": null,
            "max_height": null,
            "max_width": null,
            "min_height": null,
            "min_width": null,
            "object_fit": null,
            "object_position": null,
            "order": null,
            "overflow": null,
            "overflow_x": null,
            "overflow_y": null,
            "padding": null,
            "right": null,
            "top": null,
            "visibility": null,
            "width": null
          }
        },
        "518365e0b3454d5487e0b523285f5339": {
          "model_module": "@jupyter-widgets/controls",
          "model_name": "ProgressStyleModel",
          "model_module_version": "1.5.0",
          "state": {
            "_model_module": "@jupyter-widgets/controls",
            "_model_module_version": "1.5.0",
            "_model_name": "ProgressStyleModel",
            "_view_count": null,
            "_view_module": "@jupyter-widgets/base",
            "_view_module_version": "1.2.0",
            "_view_name": "StyleView",
            "bar_color": null,
            "description_width": ""
          }
        },
        "a1ec43f6881944fcb50b85307378e04f": {
          "model_module": "@jupyter-widgets/base",
          "model_name": "LayoutModel",
          "model_module_version": "1.2.0",
          "state": {
            "_model_module": "@jupyter-widgets/base",
            "_model_module_version": "1.2.0",
            "_model_name": "LayoutModel",
            "_view_count": null,
            "_view_module": "@jupyter-widgets/base",
            "_view_module_version": "1.2.0",
            "_view_name": "LayoutView",
            "align_content": null,
            "align_items": null,
            "align_self": null,
            "border": null,
            "bottom": null,
            "display": null,
            "flex": null,
            "flex_flow": null,
            "grid_area": null,
            "grid_auto_columns": null,
            "grid_auto_flow": null,
            "grid_auto_rows": null,
            "grid_column": null,
            "grid_gap": null,
            "grid_row": null,
            "grid_template_areas": null,
            "grid_template_columns": null,
            "grid_template_rows": null,
            "height": null,
            "justify_content": null,
            "justify_items": null,
            "left": null,
            "margin": null,
            "max_height": null,
            "max_width": null,
            "min_height": null,
            "min_width": null,
            "object_fit": null,
            "object_position": null,
            "order": null,
            "overflow": null,
            "overflow_x": null,
            "overflow_y": null,
            "padding": null,
            "right": null,
            "top": null,
            "visibility": null,
            "width": null
          }
        },
        "ed348221628840caafeea845d8176dc9": {
          "model_module": "@jupyter-widgets/controls",
          "model_name": "DescriptionStyleModel",
          "model_module_version": "1.5.0",
          "state": {
            "_model_module": "@jupyter-widgets/controls",
            "_model_module_version": "1.5.0",
            "_model_name": "DescriptionStyleModel",
            "_view_count": null,
            "_view_module": "@jupyter-widgets/base",
            "_view_module_version": "1.2.0",
            "_view_name": "StyleView",
            "description_width": ""
          }
        },
        "831c4955f341499ab8e30beca84927b7": {
          "model_module": "@jupyter-widgets/controls",
          "model_name": "HBoxModel",
          "model_module_version": "1.5.0",
          "state": {
            "_dom_classes": [],
            "_model_module": "@jupyter-widgets/controls",
            "_model_module_version": "1.5.0",
            "_model_name": "HBoxModel",
            "_view_count": null,
            "_view_module": "@jupyter-widgets/controls",
            "_view_module_version": "1.5.0",
            "_view_name": "HBoxView",
            "box_style": "",
            "children": [
              "IPY_MODEL_975c2f6b88c54b9883e71d4668b4e532",
              "IPY_MODEL_b429f065e0664bbd88ea96ff21aa506f",
              "IPY_MODEL_d9636a1665f24898816e1e4c3ca60a8d"
            ],
            "layout": "IPY_MODEL_79a17a21f6d44c57866b9e1d3060e87f"
          }
        },
        "975c2f6b88c54b9883e71d4668b4e532": {
          "model_module": "@jupyter-widgets/controls",
          "model_name": "HTMLModel",
          "model_module_version": "1.5.0",
          "state": {
            "_dom_classes": [],
            "_model_module": "@jupyter-widgets/controls",
            "_model_module_version": "1.5.0",
            "_model_name": "HTMLModel",
            "_view_count": null,
            "_view_module": "@jupyter-widgets/controls",
            "_view_module_version": "1.5.0",
            "_view_name": "HTMLView",
            "description": "",
            "description_tooltip": null,
            "layout": "IPY_MODEL_4335e1be4cb34be89b457c7d1a63fe90",
            "placeholder": "​",
            "style": "IPY_MODEL_c22092e92a3f4ec694333ba393610675",
            "value": "model.safetensors: 100%"
          }
        },
        "b429f065e0664bbd88ea96ff21aa506f": {
          "model_module": "@jupyter-widgets/controls",
          "model_name": "FloatProgressModel",
          "model_module_version": "1.5.0",
          "state": {
            "_dom_classes": [],
            "_model_module": "@jupyter-widgets/controls",
            "_model_module_version": "1.5.0",
            "_model_name": "FloatProgressModel",
            "_view_count": null,
            "_view_module": "@jupyter-widgets/controls",
            "_view_module_version": "1.5.0",
            "_view_name": "ProgressView",
            "bar_style": "success",
            "description": "",
            "description_tooltip": null,
            "layout": "IPY_MODEL_0c18fc598543440ca16781e82c89e189",
            "max": 548105171,
            "min": 0,
            "orientation": "horizontal",
            "style": "IPY_MODEL_d8e320de97704e469aa8cfb60ac0d8df",
            "value": 548105171
          }
        },
        "d9636a1665f24898816e1e4c3ca60a8d": {
          "model_module": "@jupyter-widgets/controls",
          "model_name": "HTMLModel",
          "model_module_version": "1.5.0",
          "state": {
            "_dom_classes": [],
            "_model_module": "@jupyter-widgets/controls",
            "_model_module_version": "1.5.0",
            "_model_name": "HTMLModel",
            "_view_count": null,
            "_view_module": "@jupyter-widgets/controls",
            "_view_module_version": "1.5.0",
            "_view_name": "HTMLView",
            "description": "",
            "description_tooltip": null,
            "layout": "IPY_MODEL_cef18799c85f45458e9238432f46f58e",
            "placeholder": "​",
            "style": "IPY_MODEL_5dc4d2e4dd1b4837acb639afbd767a9c",
            "value": " 548M/548M [00:05&lt;00:00, 100MB/s]"
          }
        },
        "79a17a21f6d44c57866b9e1d3060e87f": {
          "model_module": "@jupyter-widgets/base",
          "model_name": "LayoutModel",
          "model_module_version": "1.2.0",
          "state": {
            "_model_module": "@jupyter-widgets/base",
            "_model_module_version": "1.2.0",
            "_model_name": "LayoutModel",
            "_view_count": null,
            "_view_module": "@jupyter-widgets/base",
            "_view_module_version": "1.2.0",
            "_view_name": "LayoutView",
            "align_content": null,
            "align_items": null,
            "align_self": null,
            "border": null,
            "bottom": null,
            "display": null,
            "flex": null,
            "flex_flow": null,
            "grid_area": null,
            "grid_auto_columns": null,
            "grid_auto_flow": null,
            "grid_auto_rows": null,
            "grid_column": null,
            "grid_gap": null,
            "grid_row": null,
            "grid_template_areas": null,
            "grid_template_columns": null,
            "grid_template_rows": null,
            "height": null,
            "justify_content": null,
            "justify_items": null,
            "left": null,
            "margin": null,
            "max_height": null,
            "max_width": null,
            "min_height": null,
            "min_width": null,
            "object_fit": null,
            "object_position": null,
            "order": null,
            "overflow": null,
            "overflow_x": null,
            "overflow_y": null,
            "padding": null,
            "right": null,
            "top": null,
            "visibility": null,
            "width": null
          }
        },
        "4335e1be4cb34be89b457c7d1a63fe90": {
          "model_module": "@jupyter-widgets/base",
          "model_name": "LayoutModel",
          "model_module_version": "1.2.0",
          "state": {
            "_model_module": "@jupyter-widgets/base",
            "_model_module_version": "1.2.0",
            "_model_name": "LayoutModel",
            "_view_count": null,
            "_view_module": "@jupyter-widgets/base",
            "_view_module_version": "1.2.0",
            "_view_name": "LayoutView",
            "align_content": null,
            "align_items": null,
            "align_self": null,
            "border": null,
            "bottom": null,
            "display": null,
            "flex": null,
            "flex_flow": null,
            "grid_area": null,
            "grid_auto_columns": null,
            "grid_auto_flow": null,
            "grid_auto_rows": null,
            "grid_column": null,
            "grid_gap": null,
            "grid_row": null,
            "grid_template_areas": null,
            "grid_template_columns": null,
            "grid_template_rows": null,
            "height": null,
            "justify_content": null,
            "justify_items": null,
            "left": null,
            "margin": null,
            "max_height": null,
            "max_width": null,
            "min_height": null,
            "min_width": null,
            "object_fit": null,
            "object_position": null,
            "order": null,
            "overflow": null,
            "overflow_x": null,
            "overflow_y": null,
            "padding": null,
            "right": null,
            "top": null,
            "visibility": null,
            "width": null
          }
        },
        "c22092e92a3f4ec694333ba393610675": {
          "model_module": "@jupyter-widgets/controls",
          "model_name": "DescriptionStyleModel",
          "model_module_version": "1.5.0",
          "state": {
            "_model_module": "@jupyter-widgets/controls",
            "_model_module_version": "1.5.0",
            "_model_name": "DescriptionStyleModel",
            "_view_count": null,
            "_view_module": "@jupyter-widgets/base",
            "_view_module_version": "1.2.0",
            "_view_name": "StyleView",
            "description_width": ""
          }
        },
        "0c18fc598543440ca16781e82c89e189": {
          "model_module": "@jupyter-widgets/base",
          "model_name": "LayoutModel",
          "model_module_version": "1.2.0",
          "state": {
            "_model_module": "@jupyter-widgets/base",
            "_model_module_version": "1.2.0",
            "_model_name": "LayoutModel",
            "_view_count": null,
            "_view_module": "@jupyter-widgets/base",
            "_view_module_version": "1.2.0",
            "_view_name": "LayoutView",
            "align_content": null,
            "align_items": null,
            "align_self": null,
            "border": null,
            "bottom": null,
            "display": null,
            "flex": null,
            "flex_flow": null,
            "grid_area": null,
            "grid_auto_columns": null,
            "grid_auto_flow": null,
            "grid_auto_rows": null,
            "grid_column": null,
            "grid_gap": null,
            "grid_row": null,
            "grid_template_areas": null,
            "grid_template_columns": null,
            "grid_template_rows": null,
            "height": null,
            "justify_content": null,
            "justify_items": null,
            "left": null,
            "margin": null,
            "max_height": null,
            "max_width": null,
            "min_height": null,
            "min_width": null,
            "object_fit": null,
            "object_position": null,
            "order": null,
            "overflow": null,
            "overflow_x": null,
            "overflow_y": null,
            "padding": null,
            "right": null,
            "top": null,
            "visibility": null,
            "width": null
          }
        },
        "d8e320de97704e469aa8cfb60ac0d8df": {
          "model_module": "@jupyter-widgets/controls",
          "model_name": "ProgressStyleModel",
          "model_module_version": "1.5.0",
          "state": {
            "_model_module": "@jupyter-widgets/controls",
            "_model_module_version": "1.5.0",
            "_model_name": "ProgressStyleModel",
            "_view_count": null,
            "_view_module": "@jupyter-widgets/base",
            "_view_module_version": "1.2.0",
            "_view_name": "StyleView",
            "bar_color": null,
            "description_width": ""
          }
        },
        "cef18799c85f45458e9238432f46f58e": {
          "model_module": "@jupyter-widgets/base",
          "model_name": "LayoutModel",
          "model_module_version": "1.2.0",
          "state": {
            "_model_module": "@jupyter-widgets/base",
            "_model_module_version": "1.2.0",
            "_model_name": "LayoutModel",
            "_view_count": null,
            "_view_module": "@jupyter-widgets/base",
            "_view_module_version": "1.2.0",
            "_view_name": "LayoutView",
            "align_content": null,
            "align_items": null,
            "align_self": null,
            "border": null,
            "bottom": null,
            "display": null,
            "flex": null,
            "flex_flow": null,
            "grid_area": null,
            "grid_auto_columns": null,
            "grid_auto_flow": null,
            "grid_auto_rows": null,
            "grid_column": null,
            "grid_gap": null,
            "grid_row": null,
            "grid_template_areas": null,
            "grid_template_columns": null,
            "grid_template_rows": null,
            "height": null,
            "justify_content": null,
            "justify_items": null,
            "left": null,
            "margin": null,
            "max_height": null,
            "max_width": null,
            "min_height": null,
            "min_width": null,
            "object_fit": null,
            "object_position": null,
            "order": null,
            "overflow": null,
            "overflow_x": null,
            "overflow_y": null,
            "padding": null,
            "right": null,
            "top": null,
            "visibility": null,
            "width": null
          }
        },
        "5dc4d2e4dd1b4837acb639afbd767a9c": {
          "model_module": "@jupyter-widgets/controls",
          "model_name": "DescriptionStyleModel",
          "model_module_version": "1.5.0",
          "state": {
            "_model_module": "@jupyter-widgets/controls",
            "_model_module_version": "1.5.0",
            "_model_name": "DescriptionStyleModel",
            "_view_count": null,
            "_view_module": "@jupyter-widgets/base",
            "_view_module_version": "1.2.0",
            "_view_name": "StyleView",
            "description_width": ""
          }
        },
        "23d4a13a6fd049fe91003b70d1c183b1": {
          "model_module": "@jupyter-widgets/controls",
          "model_name": "HBoxModel",
          "model_module_version": "1.5.0",
          "state": {
            "_dom_classes": [],
            "_model_module": "@jupyter-widgets/controls",
            "_model_module_version": "1.5.0",
            "_model_name": "HBoxModel",
            "_view_count": null,
            "_view_module": "@jupyter-widgets/controls",
            "_view_module_version": "1.5.0",
            "_view_name": "HBoxView",
            "box_style": "",
            "children": [
              "IPY_MODEL_674f3d4cd02e4946abc0d00dee4c98ee",
              "IPY_MODEL_47dd3a66d83b492aba50b59a9693c4f1",
              "IPY_MODEL_235cded69ed8437e8fdc2ad6bdffb43e"
            ],
            "layout": "IPY_MODEL_f750ecad872c49cda0c40e99f2f51246"
          }
        },
        "674f3d4cd02e4946abc0d00dee4c98ee": {
          "model_module": "@jupyter-widgets/controls",
          "model_name": "HTMLModel",
          "model_module_version": "1.5.0",
          "state": {
            "_dom_classes": [],
            "_model_module": "@jupyter-widgets/controls",
            "_model_module_version": "1.5.0",
            "_model_name": "HTMLModel",
            "_view_count": null,
            "_view_module": "@jupyter-widgets/controls",
            "_view_module_version": "1.5.0",
            "_view_name": "HTMLView",
            "description": "",
            "description_tooltip": null,
            "layout": "IPY_MODEL_ba1dba5e32b34e3c97efa251e0bee271",
            "placeholder": "​",
            "style": "IPY_MODEL_de22d7e0500544d086b59caf10944ee4",
            "value": "generation_config.json: 100%"
          }
        },
        "47dd3a66d83b492aba50b59a9693c4f1": {
          "model_module": "@jupyter-widgets/controls",
          "model_name": "FloatProgressModel",
          "model_module_version": "1.5.0",
          "state": {
            "_dom_classes": [],
            "_model_module": "@jupyter-widgets/controls",
            "_model_module_version": "1.5.0",
            "_model_name": "FloatProgressModel",
            "_view_count": null,
            "_view_module": "@jupyter-widgets/controls",
            "_view_module_version": "1.5.0",
            "_view_name": "ProgressView",
            "bar_style": "success",
            "description": "",
            "description_tooltip": null,
            "layout": "IPY_MODEL_f4e3bff96a31414aa3050aaf70df70d5",
            "max": 124,
            "min": 0,
            "orientation": "horizontal",
            "style": "IPY_MODEL_af14f55d8dc6493eb1a0b94431aa1337",
            "value": 124
          }
        },
        "235cded69ed8437e8fdc2ad6bdffb43e": {
          "model_module": "@jupyter-widgets/controls",
          "model_name": "HTMLModel",
          "model_module_version": "1.5.0",
          "state": {
            "_dom_classes": [],
            "_model_module": "@jupyter-widgets/controls",
            "_model_module_version": "1.5.0",
            "_model_name": "HTMLModel",
            "_view_count": null,
            "_view_module": "@jupyter-widgets/controls",
            "_view_module_version": "1.5.0",
            "_view_name": "HTMLView",
            "description": "",
            "description_tooltip": null,
            "layout": "IPY_MODEL_ae4dc4c70442438b8abf603ccd509255",
            "placeholder": "​",
            "style": "IPY_MODEL_989b0b2e52fe4cf0a5109e4066cd7c7a",
            "value": " 124/124 [00:00&lt;00:00, 1.94kB/s]"
          }
        },
        "f750ecad872c49cda0c40e99f2f51246": {
          "model_module": "@jupyter-widgets/base",
          "model_name": "LayoutModel",
          "model_module_version": "1.2.0",
          "state": {
            "_model_module": "@jupyter-widgets/base",
            "_model_module_version": "1.2.0",
            "_model_name": "LayoutModel",
            "_view_count": null,
            "_view_module": "@jupyter-widgets/base",
            "_view_module_version": "1.2.0",
            "_view_name": "LayoutView",
            "align_content": null,
            "align_items": null,
            "align_self": null,
            "border": null,
            "bottom": null,
            "display": null,
            "flex": null,
            "flex_flow": null,
            "grid_area": null,
            "grid_auto_columns": null,
            "grid_auto_flow": null,
            "grid_auto_rows": null,
            "grid_column": null,
            "grid_gap": null,
            "grid_row": null,
            "grid_template_areas": null,
            "grid_template_columns": null,
            "grid_template_rows": null,
            "height": null,
            "justify_content": null,
            "justify_items": null,
            "left": null,
            "margin": null,
            "max_height": null,
            "max_width": null,
            "min_height": null,
            "min_width": null,
            "object_fit": null,
            "object_position": null,
            "order": null,
            "overflow": null,
            "overflow_x": null,
            "overflow_y": null,
            "padding": null,
            "right": null,
            "top": null,
            "visibility": null,
            "width": null
          }
        },
        "ba1dba5e32b34e3c97efa251e0bee271": {
          "model_module": "@jupyter-widgets/base",
          "model_name": "LayoutModel",
          "model_module_version": "1.2.0",
          "state": {
            "_model_module": "@jupyter-widgets/base",
            "_model_module_version": "1.2.0",
            "_model_name": "LayoutModel",
            "_view_count": null,
            "_view_module": "@jupyter-widgets/base",
            "_view_module_version": "1.2.0",
            "_view_name": "LayoutView",
            "align_content": null,
            "align_items": null,
            "align_self": null,
            "border": null,
            "bottom": null,
            "display": null,
            "flex": null,
            "flex_flow": null,
            "grid_area": null,
            "grid_auto_columns": null,
            "grid_auto_flow": null,
            "grid_auto_rows": null,
            "grid_column": null,
            "grid_gap": null,
            "grid_row": null,
            "grid_template_areas": null,
            "grid_template_columns": null,
            "grid_template_rows": null,
            "height": null,
            "justify_content": null,
            "justify_items": null,
            "left": null,
            "margin": null,
            "max_height": null,
            "max_width": null,
            "min_height": null,
            "min_width": null,
            "object_fit": null,
            "object_position": null,
            "order": null,
            "overflow": null,
            "overflow_x": null,
            "overflow_y": null,
            "padding": null,
            "right": null,
            "top": null,
            "visibility": null,
            "width": null
          }
        },
        "de22d7e0500544d086b59caf10944ee4": {
          "model_module": "@jupyter-widgets/controls",
          "model_name": "DescriptionStyleModel",
          "model_module_version": "1.5.0",
          "state": {
            "_model_module": "@jupyter-widgets/controls",
            "_model_module_version": "1.5.0",
            "_model_name": "DescriptionStyleModel",
            "_view_count": null,
            "_view_module": "@jupyter-widgets/base",
            "_view_module_version": "1.2.0",
            "_view_name": "StyleView",
            "description_width": ""
          }
        },
        "f4e3bff96a31414aa3050aaf70df70d5": {
          "model_module": "@jupyter-widgets/base",
          "model_name": "LayoutModel",
          "model_module_version": "1.2.0",
          "state": {
            "_model_module": "@jupyter-widgets/base",
            "_model_module_version": "1.2.0",
            "_model_name": "LayoutModel",
            "_view_count": null,
            "_view_module": "@jupyter-widgets/base",
            "_view_module_version": "1.2.0",
            "_view_name": "LayoutView",
            "align_content": null,
            "align_items": null,
            "align_self": null,
            "border": null,
            "bottom": null,
            "display": null,
            "flex": null,
            "flex_flow": null,
            "grid_area": null,
            "grid_auto_columns": null,
            "grid_auto_flow": null,
            "grid_auto_rows": null,
            "grid_column": null,
            "grid_gap": null,
            "grid_row": null,
            "grid_template_areas": null,
            "grid_template_columns": null,
            "grid_template_rows": null,
            "height": null,
            "justify_content": null,
            "justify_items": null,
            "left": null,
            "margin": null,
            "max_height": null,
            "max_width": null,
            "min_height": null,
            "min_width": null,
            "object_fit": null,
            "object_position": null,
            "order": null,
            "overflow": null,
            "overflow_x": null,
            "overflow_y": null,
            "padding": null,
            "right": null,
            "top": null,
            "visibility": null,
            "width": null
          }
        },
        "af14f55d8dc6493eb1a0b94431aa1337": {
          "model_module": "@jupyter-widgets/controls",
          "model_name": "ProgressStyleModel",
          "model_module_version": "1.5.0",
          "state": {
            "_model_module": "@jupyter-widgets/controls",
            "_model_module_version": "1.5.0",
            "_model_name": "ProgressStyleModel",
            "_view_count": null,
            "_view_module": "@jupyter-widgets/base",
            "_view_module_version": "1.2.0",
            "_view_name": "StyleView",
            "bar_color": null,
            "description_width": ""
          }
        },
        "ae4dc4c70442438b8abf603ccd509255": {
          "model_module": "@jupyter-widgets/base",
          "model_name": "LayoutModel",
          "model_module_version": "1.2.0",
          "state": {
            "_model_module": "@jupyter-widgets/base",
            "_model_module_version": "1.2.0",
            "_model_name": "LayoutModel",
            "_view_count": null,
            "_view_module": "@jupyter-widgets/base",
            "_view_module_version": "1.2.0",
            "_view_name": "LayoutView",
            "align_content": null,
            "align_items": null,
            "align_self": null,
            "border": null,
            "bottom": null,
            "display": null,
            "flex": null,
            "flex_flow": null,
            "grid_area": null,
            "grid_auto_columns": null,
            "grid_auto_flow": null,
            "grid_auto_rows": null,
            "grid_column": null,
            "grid_gap": null,
            "grid_row": null,
            "grid_template_areas": null,
            "grid_template_columns": null,
            "grid_template_rows": null,
            "height": null,
            "justify_content": null,
            "justify_items": null,
            "left": null,
            "margin": null,
            "max_height": null,
            "max_width": null,
            "min_height": null,
            "min_width": null,
            "object_fit": null,
            "object_position": null,
            "order": null,
            "overflow": null,
            "overflow_x": null,
            "overflow_y": null,
            "padding": null,
            "right": null,
            "top": null,
            "visibility": null,
            "width": null
          }
        },
        "989b0b2e52fe4cf0a5109e4066cd7c7a": {
          "model_module": "@jupyter-widgets/controls",
          "model_name": "DescriptionStyleModel",
          "model_module_version": "1.5.0",
          "state": {
            "_model_module": "@jupyter-widgets/controls",
            "_model_module_version": "1.5.0",
            "_model_name": "DescriptionStyleModel",
            "_view_count": null,
            "_view_module": "@jupyter-widgets/base",
            "_view_module_version": "1.2.0",
            "_view_name": "StyleView",
            "description_width": ""
          }
        },
        "2ff427b2199046c18eb4f678f8a6d794": {
          "model_module": "@jupyter-widgets/controls",
          "model_name": "HBoxModel",
          "model_module_version": "1.5.0",
          "state": {
            "_dom_classes": [],
            "_model_module": "@jupyter-widgets/controls",
            "_model_module_version": "1.5.0",
            "_model_name": "HBoxModel",
            "_view_count": null,
            "_view_module": "@jupyter-widgets/controls",
            "_view_module_version": "1.5.0",
            "_view_name": "HBoxView",
            "box_style": "",
            "children": [
              "IPY_MODEL_5c8df8ccdd2f490cb61e5222128510e6",
              "IPY_MODEL_11024f859ba8432797c4d4ef5c202a31",
              "IPY_MODEL_37c6fd86e3f14961af610ddc00099bed"
            ],
            "layout": "IPY_MODEL_f0a37dee9e8e4d1c9546a9963cfaa894"
          }
        },
        "5c8df8ccdd2f490cb61e5222128510e6": {
          "model_module": "@jupyter-widgets/controls",
          "model_name": "HTMLModel",
          "model_module_version": "1.5.0",
          "state": {
            "_dom_classes": [],
            "_model_module": "@jupyter-widgets/controls",
            "_model_module_version": "1.5.0",
            "_model_name": "HTMLModel",
            "_view_count": null,
            "_view_module": "@jupyter-widgets/controls",
            "_view_module_version": "1.5.0",
            "_view_name": "HTMLView",
            "description": "",
            "description_tooltip": null,
            "layout": "IPY_MODEL_ea465e0f36fd4151892b90d660f99d91",
            "placeholder": "​",
            "style": "IPY_MODEL_5c3f10be9ddd4874bc0a0ec6299de8d4",
            "value": "tokenizer_config.json: 100%"
          }
        },
        "11024f859ba8432797c4d4ef5c202a31": {
          "model_module": "@jupyter-widgets/controls",
          "model_name": "FloatProgressModel",
          "model_module_version": "1.5.0",
          "state": {
            "_dom_classes": [],
            "_model_module": "@jupyter-widgets/controls",
            "_model_module_version": "1.5.0",
            "_model_name": "FloatProgressModel",
            "_view_count": null,
            "_view_module": "@jupyter-widgets/controls",
            "_view_module_version": "1.5.0",
            "_view_name": "ProgressView",
            "bar_style": "success",
            "description": "",
            "description_tooltip": null,
            "layout": "IPY_MODEL_21c50c00ebc346bc84c7fcf538e7171c",
            "max": 26,
            "min": 0,
            "orientation": "horizontal",
            "style": "IPY_MODEL_b3cf7daca05b4bb89a0e64a953869a3e",
            "value": 26
          }
        },
        "37c6fd86e3f14961af610ddc00099bed": {
          "model_module": "@jupyter-widgets/controls",
          "model_name": "HTMLModel",
          "model_module_version": "1.5.0",
          "state": {
            "_dom_classes": [],
            "_model_module": "@jupyter-widgets/controls",
            "_model_module_version": "1.5.0",
            "_model_name": "HTMLModel",
            "_view_count": null,
            "_view_module": "@jupyter-widgets/controls",
            "_view_module_version": "1.5.0",
            "_view_name": "HTMLView",
            "description": "",
            "description_tooltip": null,
            "layout": "IPY_MODEL_6fe401acaf454c8ca0a5b0dc36ea04d2",
            "placeholder": "​",
            "style": "IPY_MODEL_7032f9ef749e4c54b2df8bd0eb2b5705",
            "value": " 26.0/26.0 [00:00&lt;00:00, 505B/s]"
          }
        },
        "f0a37dee9e8e4d1c9546a9963cfaa894": {
          "model_module": "@jupyter-widgets/base",
          "model_name": "LayoutModel",
          "model_module_version": "1.2.0",
          "state": {
            "_model_module": "@jupyter-widgets/base",
            "_model_module_version": "1.2.0",
            "_model_name": "LayoutModel",
            "_view_count": null,
            "_view_module": "@jupyter-widgets/base",
            "_view_module_version": "1.2.0",
            "_view_name": "LayoutView",
            "align_content": null,
            "align_items": null,
            "align_self": null,
            "border": null,
            "bottom": null,
            "display": null,
            "flex": null,
            "flex_flow": null,
            "grid_area": null,
            "grid_auto_columns": null,
            "grid_auto_flow": null,
            "grid_auto_rows": null,
            "grid_column": null,
            "grid_gap": null,
            "grid_row": null,
            "grid_template_areas": null,
            "grid_template_columns": null,
            "grid_template_rows": null,
            "height": null,
            "justify_content": null,
            "justify_items": null,
            "left": null,
            "margin": null,
            "max_height": null,
            "max_width": null,
            "min_height": null,
            "min_width": null,
            "object_fit": null,
            "object_position": null,
            "order": null,
            "overflow": null,
            "overflow_x": null,
            "overflow_y": null,
            "padding": null,
            "right": null,
            "top": null,
            "visibility": null,
            "width": null
          }
        },
        "ea465e0f36fd4151892b90d660f99d91": {
          "model_module": "@jupyter-widgets/base",
          "model_name": "LayoutModel",
          "model_module_version": "1.2.0",
          "state": {
            "_model_module": "@jupyter-widgets/base",
            "_model_module_version": "1.2.0",
            "_model_name": "LayoutModel",
            "_view_count": null,
            "_view_module": "@jupyter-widgets/base",
            "_view_module_version": "1.2.0",
            "_view_name": "LayoutView",
            "align_content": null,
            "align_items": null,
            "align_self": null,
            "border": null,
            "bottom": null,
            "display": null,
            "flex": null,
            "flex_flow": null,
            "grid_area": null,
            "grid_auto_columns": null,
            "grid_auto_flow": null,
            "grid_auto_rows": null,
            "grid_column": null,
            "grid_gap": null,
            "grid_row": null,
            "grid_template_areas": null,
            "grid_template_columns": null,
            "grid_template_rows": null,
            "height": null,
            "justify_content": null,
            "justify_items": null,
            "left": null,
            "margin": null,
            "max_height": null,
            "max_width": null,
            "min_height": null,
            "min_width": null,
            "object_fit": null,
            "object_position": null,
            "order": null,
            "overflow": null,
            "overflow_x": null,
            "overflow_y": null,
            "padding": null,
            "right": null,
            "top": null,
            "visibility": null,
            "width": null
          }
        },
        "5c3f10be9ddd4874bc0a0ec6299de8d4": {
          "model_module": "@jupyter-widgets/controls",
          "model_name": "DescriptionStyleModel",
          "model_module_version": "1.5.0",
          "state": {
            "_model_module": "@jupyter-widgets/controls",
            "_model_module_version": "1.5.0",
            "_model_name": "DescriptionStyleModel",
            "_view_count": null,
            "_view_module": "@jupyter-widgets/base",
            "_view_module_version": "1.2.0",
            "_view_name": "StyleView",
            "description_width": ""
          }
        },
        "21c50c00ebc346bc84c7fcf538e7171c": {
          "model_module": "@jupyter-widgets/base",
          "model_name": "LayoutModel",
          "model_module_version": "1.2.0",
          "state": {
            "_model_module": "@jupyter-widgets/base",
            "_model_module_version": "1.2.0",
            "_model_name": "LayoutModel",
            "_view_count": null,
            "_view_module": "@jupyter-widgets/base",
            "_view_module_version": "1.2.0",
            "_view_name": "LayoutView",
            "align_content": null,
            "align_items": null,
            "align_self": null,
            "border": null,
            "bottom": null,
            "display": null,
            "flex": null,
            "flex_flow": null,
            "grid_area": null,
            "grid_auto_columns": null,
            "grid_auto_flow": null,
            "grid_auto_rows": null,
            "grid_column": null,
            "grid_gap": null,
            "grid_row": null,
            "grid_template_areas": null,
            "grid_template_columns": null,
            "grid_template_rows": null,
            "height": null,
            "justify_content": null,
            "justify_items": null,
            "left": null,
            "margin": null,
            "max_height": null,
            "max_width": null,
            "min_height": null,
            "min_width": null,
            "object_fit": null,
            "object_position": null,
            "order": null,
            "overflow": null,
            "overflow_x": null,
            "overflow_y": null,
            "padding": null,
            "right": null,
            "top": null,
            "visibility": null,
            "width": null
          }
        },
        "b3cf7daca05b4bb89a0e64a953869a3e": {
          "model_module": "@jupyter-widgets/controls",
          "model_name": "ProgressStyleModel",
          "model_module_version": "1.5.0",
          "state": {
            "_model_module": "@jupyter-widgets/controls",
            "_model_module_version": "1.5.0",
            "_model_name": "ProgressStyleModel",
            "_view_count": null,
            "_view_module": "@jupyter-widgets/base",
            "_view_module_version": "1.2.0",
            "_view_name": "StyleView",
            "bar_color": null,
            "description_width": ""
          }
        },
        "6fe401acaf454c8ca0a5b0dc36ea04d2": {
          "model_module": "@jupyter-widgets/base",
          "model_name": "LayoutModel",
          "model_module_version": "1.2.0",
          "state": {
            "_model_module": "@jupyter-widgets/base",
            "_model_module_version": "1.2.0",
            "_model_name": "LayoutModel",
            "_view_count": null,
            "_view_module": "@jupyter-widgets/base",
            "_view_module_version": "1.2.0",
            "_view_name": "LayoutView",
            "align_content": null,
            "align_items": null,
            "align_self": null,
            "border": null,
            "bottom": null,
            "display": null,
            "flex": null,
            "flex_flow": null,
            "grid_area": null,
            "grid_auto_columns": null,
            "grid_auto_flow": null,
            "grid_auto_rows": null,
            "grid_column": null,
            "grid_gap": null,
            "grid_row": null,
            "grid_template_areas": null,
            "grid_template_columns": null,
            "grid_template_rows": null,
            "height": null,
            "justify_content": null,
            "justify_items": null,
            "left": null,
            "margin": null,
            "max_height": null,
            "max_width": null,
            "min_height": null,
            "min_width": null,
            "object_fit": null,
            "object_position": null,
            "order": null,
            "overflow": null,
            "overflow_x": null,
            "overflow_y": null,
            "padding": null,
            "right": null,
            "top": null,
            "visibility": null,
            "width": null
          }
        },
        "7032f9ef749e4c54b2df8bd0eb2b5705": {
          "model_module": "@jupyter-widgets/controls",
          "model_name": "DescriptionStyleModel",
          "model_module_version": "1.5.0",
          "state": {
            "_model_module": "@jupyter-widgets/controls",
            "_model_module_version": "1.5.0",
            "_model_name": "DescriptionStyleModel",
            "_view_count": null,
            "_view_module": "@jupyter-widgets/base",
            "_view_module_version": "1.2.0",
            "_view_name": "StyleView",
            "description_width": ""
          }
        },
        "e21275ae15634bfe9c5371742cda22f5": {
          "model_module": "@jupyter-widgets/controls",
          "model_name": "HBoxModel",
          "model_module_version": "1.5.0",
          "state": {
            "_dom_classes": [],
            "_model_module": "@jupyter-widgets/controls",
            "_model_module_version": "1.5.0",
            "_model_name": "HBoxModel",
            "_view_count": null,
            "_view_module": "@jupyter-widgets/controls",
            "_view_module_version": "1.5.0",
            "_view_name": "HBoxView",
            "box_style": "",
            "children": [
              "IPY_MODEL_17c7e598d5af4345a253e05dda50876b",
              "IPY_MODEL_661d23689f494a48a732e93dfff79d67",
              "IPY_MODEL_ce146b1f0d3744df80605a0fbcf4f31b"
            ],
            "layout": "IPY_MODEL_92c0286c8717490fb967d1e45998876c"
          }
        },
        "17c7e598d5af4345a253e05dda50876b": {
          "model_module": "@jupyter-widgets/controls",
          "model_name": "HTMLModel",
          "model_module_version": "1.5.0",
          "state": {
            "_dom_classes": [],
            "_model_module": "@jupyter-widgets/controls",
            "_model_module_version": "1.5.0",
            "_model_name": "HTMLModel",
            "_view_count": null,
            "_view_module": "@jupyter-widgets/controls",
            "_view_module_version": "1.5.0",
            "_view_name": "HTMLView",
            "description": "",
            "description_tooltip": null,
            "layout": "IPY_MODEL_9d385cf7019448a68f60925076dc6660",
            "placeholder": "​",
            "style": "IPY_MODEL_f1a41bf9342347b9a23991abb9bbbe90",
            "value": "vocab.json: 100%"
          }
        },
        "661d23689f494a48a732e93dfff79d67": {
          "model_module": "@jupyter-widgets/controls",
          "model_name": "FloatProgressModel",
          "model_module_version": "1.5.0",
          "state": {
            "_dom_classes": [],
            "_model_module": "@jupyter-widgets/controls",
            "_model_module_version": "1.5.0",
            "_model_name": "FloatProgressModel",
            "_view_count": null,
            "_view_module": "@jupyter-widgets/controls",
            "_view_module_version": "1.5.0",
            "_view_name": "ProgressView",
            "bar_style": "success",
            "description": "",
            "description_tooltip": null,
            "layout": "IPY_MODEL_4122f3b07230439ab3df022b7c7249d1",
            "max": 1042301,
            "min": 0,
            "orientation": "horizontal",
            "style": "IPY_MODEL_3ad6d08b75ec4a14b18b090c53c1ecce",
            "value": 1042301
          }
        },
        "ce146b1f0d3744df80605a0fbcf4f31b": {
          "model_module": "@jupyter-widgets/controls",
          "model_name": "HTMLModel",
          "model_module_version": "1.5.0",
          "state": {
            "_dom_classes": [],
            "_model_module": "@jupyter-widgets/controls",
            "_model_module_version": "1.5.0",
            "_model_name": "HTMLModel",
            "_view_count": null,
            "_view_module": "@jupyter-widgets/controls",
            "_view_module_version": "1.5.0",
            "_view_name": "HTMLView",
            "description": "",
            "description_tooltip": null,
            "layout": "IPY_MODEL_3c33c5b95f7740b5a81de1d12a709bbc",
            "placeholder": "​",
            "style": "IPY_MODEL_ba67a3ca97b7448e86e0678d315fd24d",
            "value": " 1.04M/1.04M [00:00&lt;00:00, 7.90MB/s]"
          }
        },
        "92c0286c8717490fb967d1e45998876c": {
          "model_module": "@jupyter-widgets/base",
          "model_name": "LayoutModel",
          "model_module_version": "1.2.0",
          "state": {
            "_model_module": "@jupyter-widgets/base",
            "_model_module_version": "1.2.0",
            "_model_name": "LayoutModel",
            "_view_count": null,
            "_view_module": "@jupyter-widgets/base",
            "_view_module_version": "1.2.0",
            "_view_name": "LayoutView",
            "align_content": null,
            "align_items": null,
            "align_self": null,
            "border": null,
            "bottom": null,
            "display": null,
            "flex": null,
            "flex_flow": null,
            "grid_area": null,
            "grid_auto_columns": null,
            "grid_auto_flow": null,
            "grid_auto_rows": null,
            "grid_column": null,
            "grid_gap": null,
            "grid_row": null,
            "grid_template_areas": null,
            "grid_template_columns": null,
            "grid_template_rows": null,
            "height": null,
            "justify_content": null,
            "justify_items": null,
            "left": null,
            "margin": null,
            "max_height": null,
            "max_width": null,
            "min_height": null,
            "min_width": null,
            "object_fit": null,
            "object_position": null,
            "order": null,
            "overflow": null,
            "overflow_x": null,
            "overflow_y": null,
            "padding": null,
            "right": null,
            "top": null,
            "visibility": null,
            "width": null
          }
        },
        "9d385cf7019448a68f60925076dc6660": {
          "model_module": "@jupyter-widgets/base",
          "model_name": "LayoutModel",
          "model_module_version": "1.2.0",
          "state": {
            "_model_module": "@jupyter-widgets/base",
            "_model_module_version": "1.2.0",
            "_model_name": "LayoutModel",
            "_view_count": null,
            "_view_module": "@jupyter-widgets/base",
            "_view_module_version": "1.2.0",
            "_view_name": "LayoutView",
            "align_content": null,
            "align_items": null,
            "align_self": null,
            "border": null,
            "bottom": null,
            "display": null,
            "flex": null,
            "flex_flow": null,
            "grid_area": null,
            "grid_auto_columns": null,
            "grid_auto_flow": null,
            "grid_auto_rows": null,
            "grid_column": null,
            "grid_gap": null,
            "grid_row": null,
            "grid_template_areas": null,
            "grid_template_columns": null,
            "grid_template_rows": null,
            "height": null,
            "justify_content": null,
            "justify_items": null,
            "left": null,
            "margin": null,
            "max_height": null,
            "max_width": null,
            "min_height": null,
            "min_width": null,
            "object_fit": null,
            "object_position": null,
            "order": null,
            "overflow": null,
            "overflow_x": null,
            "overflow_y": null,
            "padding": null,
            "right": null,
            "top": null,
            "visibility": null,
            "width": null
          }
        },
        "f1a41bf9342347b9a23991abb9bbbe90": {
          "model_module": "@jupyter-widgets/controls",
          "model_name": "DescriptionStyleModel",
          "model_module_version": "1.5.0",
          "state": {
            "_model_module": "@jupyter-widgets/controls",
            "_model_module_version": "1.5.0",
            "_model_name": "DescriptionStyleModel",
            "_view_count": null,
            "_view_module": "@jupyter-widgets/base",
            "_view_module_version": "1.2.0",
            "_view_name": "StyleView",
            "description_width": ""
          }
        },
        "4122f3b07230439ab3df022b7c7249d1": {
          "model_module": "@jupyter-widgets/base",
          "model_name": "LayoutModel",
          "model_module_version": "1.2.0",
          "state": {
            "_model_module": "@jupyter-widgets/base",
            "_model_module_version": "1.2.0",
            "_model_name": "LayoutModel",
            "_view_count": null,
            "_view_module": "@jupyter-widgets/base",
            "_view_module_version": "1.2.0",
            "_view_name": "LayoutView",
            "align_content": null,
            "align_items": null,
            "align_self": null,
            "border": null,
            "bottom": null,
            "display": null,
            "flex": null,
            "flex_flow": null,
            "grid_area": null,
            "grid_auto_columns": null,
            "grid_auto_flow": null,
            "grid_auto_rows": null,
            "grid_column": null,
            "grid_gap": null,
            "grid_row": null,
            "grid_template_areas": null,
            "grid_template_columns": null,
            "grid_template_rows": null,
            "height": null,
            "justify_content": null,
            "justify_items": null,
            "left": null,
            "margin": null,
            "max_height": null,
            "max_width": null,
            "min_height": null,
            "min_width": null,
            "object_fit": null,
            "object_position": null,
            "order": null,
            "overflow": null,
            "overflow_x": null,
            "overflow_y": null,
            "padding": null,
            "right": null,
            "top": null,
            "visibility": null,
            "width": null
          }
        },
        "3ad6d08b75ec4a14b18b090c53c1ecce": {
          "model_module": "@jupyter-widgets/controls",
          "model_name": "ProgressStyleModel",
          "model_module_version": "1.5.0",
          "state": {
            "_model_module": "@jupyter-widgets/controls",
            "_model_module_version": "1.5.0",
            "_model_name": "ProgressStyleModel",
            "_view_count": null,
            "_view_module": "@jupyter-widgets/base",
            "_view_module_version": "1.2.0",
            "_view_name": "StyleView",
            "bar_color": null,
            "description_width": ""
          }
        },
        "3c33c5b95f7740b5a81de1d12a709bbc": {
          "model_module": "@jupyter-widgets/base",
          "model_name": "LayoutModel",
          "model_module_version": "1.2.0",
          "state": {
            "_model_module": "@jupyter-widgets/base",
            "_model_module_version": "1.2.0",
            "_model_name": "LayoutModel",
            "_view_count": null,
            "_view_module": "@jupyter-widgets/base",
            "_view_module_version": "1.2.0",
            "_view_name": "LayoutView",
            "align_content": null,
            "align_items": null,
            "align_self": null,
            "border": null,
            "bottom": null,
            "display": null,
            "flex": null,
            "flex_flow": null,
            "grid_area": null,
            "grid_auto_columns": null,
            "grid_auto_flow": null,
            "grid_auto_rows": null,
            "grid_column": null,
            "grid_gap": null,
            "grid_row": null,
            "grid_template_areas": null,
            "grid_template_columns": null,
            "grid_template_rows": null,
            "height": null,
            "justify_content": null,
            "justify_items": null,
            "left": null,
            "margin": null,
            "max_height": null,
            "max_width": null,
            "min_height": null,
            "min_width": null,
            "object_fit": null,
            "object_position": null,
            "order": null,
            "overflow": null,
            "overflow_x": null,
            "overflow_y": null,
            "padding": null,
            "right": null,
            "top": null,
            "visibility": null,
            "width": null
          }
        },
        "ba67a3ca97b7448e86e0678d315fd24d": {
          "model_module": "@jupyter-widgets/controls",
          "model_name": "DescriptionStyleModel",
          "model_module_version": "1.5.0",
          "state": {
            "_model_module": "@jupyter-widgets/controls",
            "_model_module_version": "1.5.0",
            "_model_name": "DescriptionStyleModel",
            "_view_count": null,
            "_view_module": "@jupyter-widgets/base",
            "_view_module_version": "1.2.0",
            "_view_name": "StyleView",
            "description_width": ""
          }
        },
        "005e75beb2774932a1fef2f448b763cb": {
          "model_module": "@jupyter-widgets/controls",
          "model_name": "HBoxModel",
          "model_module_version": "1.5.0",
          "state": {
            "_dom_classes": [],
            "_model_module": "@jupyter-widgets/controls",
            "_model_module_version": "1.5.0",
            "_model_name": "HBoxModel",
            "_view_count": null,
            "_view_module": "@jupyter-widgets/controls",
            "_view_module_version": "1.5.0",
            "_view_name": "HBoxView",
            "box_style": "",
            "children": [
              "IPY_MODEL_f28ab4fa4b3c49a7a466560263d5da6e",
              "IPY_MODEL_2c592d3d672744cf9ca21af9417d19db",
              "IPY_MODEL_cd7804d98acc453aba5d1914504da4f2"
            ],
            "layout": "IPY_MODEL_be78b08aea50482081d3d85e3beb123e"
          }
        },
        "f28ab4fa4b3c49a7a466560263d5da6e": {
          "model_module": "@jupyter-widgets/controls",
          "model_name": "HTMLModel",
          "model_module_version": "1.5.0",
          "state": {
            "_dom_classes": [],
            "_model_module": "@jupyter-widgets/controls",
            "_model_module_version": "1.5.0",
            "_model_name": "HTMLModel",
            "_view_count": null,
            "_view_module": "@jupyter-widgets/controls",
            "_view_module_version": "1.5.0",
            "_view_name": "HTMLView",
            "description": "",
            "description_tooltip": null,
            "layout": "IPY_MODEL_cdf3f60e536b47979cfbb2bae328ae67",
            "placeholder": "​",
            "style": "IPY_MODEL_266ed5184ff843df85987e657a6ee4e6",
            "value": "merges.txt: 100%"
          }
        },
        "2c592d3d672744cf9ca21af9417d19db": {
          "model_module": "@jupyter-widgets/controls",
          "model_name": "FloatProgressModel",
          "model_module_version": "1.5.0",
          "state": {
            "_dom_classes": [],
            "_model_module": "@jupyter-widgets/controls",
            "_model_module_version": "1.5.0",
            "_model_name": "FloatProgressModel",
            "_view_count": null,
            "_view_module": "@jupyter-widgets/controls",
            "_view_module_version": "1.5.0",
            "_view_name": "ProgressView",
            "bar_style": "success",
            "description": "",
            "description_tooltip": null,
            "layout": "IPY_MODEL_b979ce444df44536b645b7d4ad282294",
            "max": 456318,
            "min": 0,
            "orientation": "horizontal",
            "style": "IPY_MODEL_54e8310ff1a74787851378168c15ff96",
            "value": 456318
          }
        },
        "cd7804d98acc453aba5d1914504da4f2": {
          "model_module": "@jupyter-widgets/controls",
          "model_name": "HTMLModel",
          "model_module_version": "1.5.0",
          "state": {
            "_dom_classes": [],
            "_model_module": "@jupyter-widgets/controls",
            "_model_module_version": "1.5.0",
            "_model_name": "HTMLModel",
            "_view_count": null,
            "_view_module": "@jupyter-widgets/controls",
            "_view_module_version": "1.5.0",
            "_view_name": "HTMLView",
            "description": "",
            "description_tooltip": null,
            "layout": "IPY_MODEL_d110ec62e4f3428e9c5b281006b80b58",
            "placeholder": "​",
            "style": "IPY_MODEL_de102c143565401ea234b2d0bdbdb946",
            "value": " 456k/456k [00:00&lt;00:00, 9.68MB/s]"
          }
        },
        "be78b08aea50482081d3d85e3beb123e": {
          "model_module": "@jupyter-widgets/base",
          "model_name": "LayoutModel",
          "model_module_version": "1.2.0",
          "state": {
            "_model_module": "@jupyter-widgets/base",
            "_model_module_version": "1.2.0",
            "_model_name": "LayoutModel",
            "_view_count": null,
            "_view_module": "@jupyter-widgets/base",
            "_view_module_version": "1.2.0",
            "_view_name": "LayoutView",
            "align_content": null,
            "align_items": null,
            "align_self": null,
            "border": null,
            "bottom": null,
            "display": null,
            "flex": null,
            "flex_flow": null,
            "grid_area": null,
            "grid_auto_columns": null,
            "grid_auto_flow": null,
            "grid_auto_rows": null,
            "grid_column": null,
            "grid_gap": null,
            "grid_row": null,
            "grid_template_areas": null,
            "grid_template_columns": null,
            "grid_template_rows": null,
            "height": null,
            "justify_content": null,
            "justify_items": null,
            "left": null,
            "margin": null,
            "max_height": null,
            "max_width": null,
            "min_height": null,
            "min_width": null,
            "object_fit": null,
            "object_position": null,
            "order": null,
            "overflow": null,
            "overflow_x": null,
            "overflow_y": null,
            "padding": null,
            "right": null,
            "top": null,
            "visibility": null,
            "width": null
          }
        },
        "cdf3f60e536b47979cfbb2bae328ae67": {
          "model_module": "@jupyter-widgets/base",
          "model_name": "LayoutModel",
          "model_module_version": "1.2.0",
          "state": {
            "_model_module": "@jupyter-widgets/base",
            "_model_module_version": "1.2.0",
            "_model_name": "LayoutModel",
            "_view_count": null,
            "_view_module": "@jupyter-widgets/base",
            "_view_module_version": "1.2.0",
            "_view_name": "LayoutView",
            "align_content": null,
            "align_items": null,
            "align_self": null,
            "border": null,
            "bottom": null,
            "display": null,
            "flex": null,
            "flex_flow": null,
            "grid_area": null,
            "grid_auto_columns": null,
            "grid_auto_flow": null,
            "grid_auto_rows": null,
            "grid_column": null,
            "grid_gap": null,
            "grid_row": null,
            "grid_template_areas": null,
            "grid_template_columns": null,
            "grid_template_rows": null,
            "height": null,
            "justify_content": null,
            "justify_items": null,
            "left": null,
            "margin": null,
            "max_height": null,
            "max_width": null,
            "min_height": null,
            "min_width": null,
            "object_fit": null,
            "object_position": null,
            "order": null,
            "overflow": null,
            "overflow_x": null,
            "overflow_y": null,
            "padding": null,
            "right": null,
            "top": null,
            "visibility": null,
            "width": null
          }
        },
        "266ed5184ff843df85987e657a6ee4e6": {
          "model_module": "@jupyter-widgets/controls",
          "model_name": "DescriptionStyleModel",
          "model_module_version": "1.5.0",
          "state": {
            "_model_module": "@jupyter-widgets/controls",
            "_model_module_version": "1.5.0",
            "_model_name": "DescriptionStyleModel",
            "_view_count": null,
            "_view_module": "@jupyter-widgets/base",
            "_view_module_version": "1.2.0",
            "_view_name": "StyleView",
            "description_width": ""
          }
        },
        "b979ce444df44536b645b7d4ad282294": {
          "model_module": "@jupyter-widgets/base",
          "model_name": "LayoutModel",
          "model_module_version": "1.2.0",
          "state": {
            "_model_module": "@jupyter-widgets/base",
            "_model_module_version": "1.2.0",
            "_model_name": "LayoutModel",
            "_view_count": null,
            "_view_module": "@jupyter-widgets/base",
            "_view_module_version": "1.2.0",
            "_view_name": "LayoutView",
            "align_content": null,
            "align_items": null,
            "align_self": null,
            "border": null,
            "bottom": null,
            "display": null,
            "flex": null,
            "flex_flow": null,
            "grid_area": null,
            "grid_auto_columns": null,
            "grid_auto_flow": null,
            "grid_auto_rows": null,
            "grid_column": null,
            "grid_gap": null,
            "grid_row": null,
            "grid_template_areas": null,
            "grid_template_columns": null,
            "grid_template_rows": null,
            "height": null,
            "justify_content": null,
            "justify_items": null,
            "left": null,
            "margin": null,
            "max_height": null,
            "max_width": null,
            "min_height": null,
            "min_width": null,
            "object_fit": null,
            "object_position": null,
            "order": null,
            "overflow": null,
            "overflow_x": null,
            "overflow_y": null,
            "padding": null,
            "right": null,
            "top": null,
            "visibility": null,
            "width": null
          }
        },
        "54e8310ff1a74787851378168c15ff96": {
          "model_module": "@jupyter-widgets/controls",
          "model_name": "ProgressStyleModel",
          "model_module_version": "1.5.0",
          "state": {
            "_model_module": "@jupyter-widgets/controls",
            "_model_module_version": "1.5.0",
            "_model_name": "ProgressStyleModel",
            "_view_count": null,
            "_view_module": "@jupyter-widgets/base",
            "_view_module_version": "1.2.0",
            "_view_name": "StyleView",
            "bar_color": null,
            "description_width": ""
          }
        },
        "d110ec62e4f3428e9c5b281006b80b58": {
          "model_module": "@jupyter-widgets/base",
          "model_name": "LayoutModel",
          "model_module_version": "1.2.0",
          "state": {
            "_model_module": "@jupyter-widgets/base",
            "_model_module_version": "1.2.0",
            "_model_name": "LayoutModel",
            "_view_count": null,
            "_view_module": "@jupyter-widgets/base",
            "_view_module_version": "1.2.0",
            "_view_name": "LayoutView",
            "align_content": null,
            "align_items": null,
            "align_self": null,
            "border": null,
            "bottom": null,
            "display": null,
            "flex": null,
            "flex_flow": null,
            "grid_area": null,
            "grid_auto_columns": null,
            "grid_auto_flow": null,
            "grid_auto_rows": null,
            "grid_column": null,
            "grid_gap": null,
            "grid_row": null,
            "grid_template_areas": null,
            "grid_template_columns": null,
            "grid_template_rows": null,
            "height": null,
            "justify_content": null,
            "justify_items": null,
            "left": null,
            "margin": null,
            "max_height": null,
            "max_width": null,
            "min_height": null,
            "min_width": null,
            "object_fit": null,
            "object_position": null,
            "order": null,
            "overflow": null,
            "overflow_x": null,
            "overflow_y": null,
            "padding": null,
            "right": null,
            "top": null,
            "visibility": null,
            "width": null
          }
        },
        "de102c143565401ea234b2d0bdbdb946": {
          "model_module": "@jupyter-widgets/controls",
          "model_name": "DescriptionStyleModel",
          "model_module_version": "1.5.0",
          "state": {
            "_model_module": "@jupyter-widgets/controls",
            "_model_module_version": "1.5.0",
            "_model_name": "DescriptionStyleModel",
            "_view_count": null,
            "_view_module": "@jupyter-widgets/base",
            "_view_module_version": "1.2.0",
            "_view_name": "StyleView",
            "description_width": ""
          }
        },
        "215325e7b8bb4010bd3188500a32a025": {
          "model_module": "@jupyter-widgets/controls",
          "model_name": "HBoxModel",
          "model_module_version": "1.5.0",
          "state": {
            "_dom_classes": [],
            "_model_module": "@jupyter-widgets/controls",
            "_model_module_version": "1.5.0",
            "_model_name": "HBoxModel",
            "_view_count": null,
            "_view_module": "@jupyter-widgets/controls",
            "_view_module_version": "1.5.0",
            "_view_name": "HBoxView",
            "box_style": "",
            "children": [
              "IPY_MODEL_2a81375e1c3e4eed9c744c35a5726552",
              "IPY_MODEL_507f96ac53fe48eba1d76042823c8081",
              "IPY_MODEL_de40c092ea19417ea494283b6d8b274f"
            ],
            "layout": "IPY_MODEL_ed9e097c7ed34e648e0c30ad6f5ed9cb"
          }
        },
        "2a81375e1c3e4eed9c744c35a5726552": {
          "model_module": "@jupyter-widgets/controls",
          "model_name": "HTMLModel",
          "model_module_version": "1.5.0",
          "state": {
            "_dom_classes": [],
            "_model_module": "@jupyter-widgets/controls",
            "_model_module_version": "1.5.0",
            "_model_name": "HTMLModel",
            "_view_count": null,
            "_view_module": "@jupyter-widgets/controls",
            "_view_module_version": "1.5.0",
            "_view_name": "HTMLView",
            "description": "",
            "description_tooltip": null,
            "layout": "IPY_MODEL_f9019128d5f7454094e8f497997ccdcf",
            "placeholder": "​",
            "style": "IPY_MODEL_637ab1aa099843d292bb19137ae733e7",
            "value": "tokenizer.json: 100%"
          }
        },
        "507f96ac53fe48eba1d76042823c8081": {
          "model_module": "@jupyter-widgets/controls",
          "model_name": "FloatProgressModel",
          "model_module_version": "1.5.0",
          "state": {
            "_dom_classes": [],
            "_model_module": "@jupyter-widgets/controls",
            "_model_module_version": "1.5.0",
            "_model_name": "FloatProgressModel",
            "_view_count": null,
            "_view_module": "@jupyter-widgets/controls",
            "_view_module_version": "1.5.0",
            "_view_name": "ProgressView",
            "bar_style": "success",
            "description": "",
            "description_tooltip": null,
            "layout": "IPY_MODEL_cdc45f0f227e4484969a19d0c12d6351",
            "max": 1355256,
            "min": 0,
            "orientation": "horizontal",
            "style": "IPY_MODEL_32ea6d66269044d1b3b9afb4e90e5c41",
            "value": 1355256
          }
        },
        "de40c092ea19417ea494283b6d8b274f": {
          "model_module": "@jupyter-widgets/controls",
          "model_name": "HTMLModel",
          "model_module_version": "1.5.0",
          "state": {
            "_dom_classes": [],
            "_model_module": "@jupyter-widgets/controls",
            "_model_module_version": "1.5.0",
            "_model_name": "HTMLModel",
            "_view_count": null,
            "_view_module": "@jupyter-widgets/controls",
            "_view_module_version": "1.5.0",
            "_view_name": "HTMLView",
            "description": "",
            "description_tooltip": null,
            "layout": "IPY_MODEL_c6ff7ade41b749b693b59cee29a069b0",
            "placeholder": "​",
            "style": "IPY_MODEL_d0104321caf34e8296476f0b56084b93",
            "value": " 1.36M/1.36M [00:00&lt;00:00, 21.5MB/s]"
          }
        },
        "ed9e097c7ed34e648e0c30ad6f5ed9cb": {
          "model_module": "@jupyter-widgets/base",
          "model_name": "LayoutModel",
          "model_module_version": "1.2.0",
          "state": {
            "_model_module": "@jupyter-widgets/base",
            "_model_module_version": "1.2.0",
            "_model_name": "LayoutModel",
            "_view_count": null,
            "_view_module": "@jupyter-widgets/base",
            "_view_module_version": "1.2.0",
            "_view_name": "LayoutView",
            "align_content": null,
            "align_items": null,
            "align_self": null,
            "border": null,
            "bottom": null,
            "display": null,
            "flex": null,
            "flex_flow": null,
            "grid_area": null,
            "grid_auto_columns": null,
            "grid_auto_flow": null,
            "grid_auto_rows": null,
            "grid_column": null,
            "grid_gap": null,
            "grid_row": null,
            "grid_template_areas": null,
            "grid_template_columns": null,
            "grid_template_rows": null,
            "height": null,
            "justify_content": null,
            "justify_items": null,
            "left": null,
            "margin": null,
            "max_height": null,
            "max_width": null,
            "min_height": null,
            "min_width": null,
            "object_fit": null,
            "object_position": null,
            "order": null,
            "overflow": null,
            "overflow_x": null,
            "overflow_y": null,
            "padding": null,
            "right": null,
            "top": null,
            "visibility": null,
            "width": null
          }
        },
        "f9019128d5f7454094e8f497997ccdcf": {
          "model_module": "@jupyter-widgets/base",
          "model_name": "LayoutModel",
          "model_module_version": "1.2.0",
          "state": {
            "_model_module": "@jupyter-widgets/base",
            "_model_module_version": "1.2.0",
            "_model_name": "LayoutModel",
            "_view_count": null,
            "_view_module": "@jupyter-widgets/base",
            "_view_module_version": "1.2.0",
            "_view_name": "LayoutView",
            "align_content": null,
            "align_items": null,
            "align_self": null,
            "border": null,
            "bottom": null,
            "display": null,
            "flex": null,
            "flex_flow": null,
            "grid_area": null,
            "grid_auto_columns": null,
            "grid_auto_flow": null,
            "grid_auto_rows": null,
            "grid_column": null,
            "grid_gap": null,
            "grid_row": null,
            "grid_template_areas": null,
            "grid_template_columns": null,
            "grid_template_rows": null,
            "height": null,
            "justify_content": null,
            "justify_items": null,
            "left": null,
            "margin": null,
            "max_height": null,
            "max_width": null,
            "min_height": null,
            "min_width": null,
            "object_fit": null,
            "object_position": null,
            "order": null,
            "overflow": null,
            "overflow_x": null,
            "overflow_y": null,
            "padding": null,
            "right": null,
            "top": null,
            "visibility": null,
            "width": null
          }
        },
        "637ab1aa099843d292bb19137ae733e7": {
          "model_module": "@jupyter-widgets/controls",
          "model_name": "DescriptionStyleModel",
          "model_module_version": "1.5.0",
          "state": {
            "_model_module": "@jupyter-widgets/controls",
            "_model_module_version": "1.5.0",
            "_model_name": "DescriptionStyleModel",
            "_view_count": null,
            "_view_module": "@jupyter-widgets/base",
            "_view_module_version": "1.2.0",
            "_view_name": "StyleView",
            "description_width": ""
          }
        },
        "cdc45f0f227e4484969a19d0c12d6351": {
          "model_module": "@jupyter-widgets/base",
          "model_name": "LayoutModel",
          "model_module_version": "1.2.0",
          "state": {
            "_model_module": "@jupyter-widgets/base",
            "_model_module_version": "1.2.0",
            "_model_name": "LayoutModel",
            "_view_count": null,
            "_view_module": "@jupyter-widgets/base",
            "_view_module_version": "1.2.0",
            "_view_name": "LayoutView",
            "align_content": null,
            "align_items": null,
            "align_self": null,
            "border": null,
            "bottom": null,
            "display": null,
            "flex": null,
            "flex_flow": null,
            "grid_area": null,
            "grid_auto_columns": null,
            "grid_auto_flow": null,
            "grid_auto_rows": null,
            "grid_column": null,
            "grid_gap": null,
            "grid_row": null,
            "grid_template_areas": null,
            "grid_template_columns": null,
            "grid_template_rows": null,
            "height": null,
            "justify_content": null,
            "justify_items": null,
            "left": null,
            "margin": null,
            "max_height": null,
            "max_width": null,
            "min_height": null,
            "min_width": null,
            "object_fit": null,
            "object_position": null,
            "order": null,
            "overflow": null,
            "overflow_x": null,
            "overflow_y": null,
            "padding": null,
            "right": null,
            "top": null,
            "visibility": null,
            "width": null
          }
        },
        "32ea6d66269044d1b3b9afb4e90e5c41": {
          "model_module": "@jupyter-widgets/controls",
          "model_name": "ProgressStyleModel",
          "model_module_version": "1.5.0",
          "state": {
            "_model_module": "@jupyter-widgets/controls",
            "_model_module_version": "1.5.0",
            "_model_name": "ProgressStyleModel",
            "_view_count": null,
            "_view_module": "@jupyter-widgets/base",
            "_view_module_version": "1.2.0",
            "_view_name": "StyleView",
            "bar_color": null,
            "description_width": ""
          }
        },
        "c6ff7ade41b749b693b59cee29a069b0": {
          "model_module": "@jupyter-widgets/base",
          "model_name": "LayoutModel",
          "model_module_version": "1.2.0",
          "state": {
            "_model_module": "@jupyter-widgets/base",
            "_model_module_version": "1.2.0",
            "_model_name": "LayoutModel",
            "_view_count": null,
            "_view_module": "@jupyter-widgets/base",
            "_view_module_version": "1.2.0",
            "_view_name": "LayoutView",
            "align_content": null,
            "align_items": null,
            "align_self": null,
            "border": null,
            "bottom": null,
            "display": null,
            "flex": null,
            "flex_flow": null,
            "grid_area": null,
            "grid_auto_columns": null,
            "grid_auto_flow": null,
            "grid_auto_rows": null,
            "grid_column": null,
            "grid_gap": null,
            "grid_row": null,
            "grid_template_areas": null,
            "grid_template_columns": null,
            "grid_template_rows": null,
            "height": null,
            "justify_content": null,
            "justify_items": null,
            "left": null,
            "margin": null,
            "max_height": null,
            "max_width": null,
            "min_height": null,
            "min_width": null,
            "object_fit": null,
            "object_position": null,
            "order": null,
            "overflow": null,
            "overflow_x": null,
            "overflow_y": null,
            "padding": null,
            "right": null,
            "top": null,
            "visibility": null,
            "width": null
          }
        },
        "d0104321caf34e8296476f0b56084b93": {
          "model_module": "@jupyter-widgets/controls",
          "model_name": "DescriptionStyleModel",
          "model_module_version": "1.5.0",
          "state": {
            "_model_module": "@jupyter-widgets/controls",
            "_model_module_version": "1.5.0",
            "_model_name": "DescriptionStyleModel",
            "_view_count": null,
            "_view_module": "@jupyter-widgets/base",
            "_view_module_version": "1.2.0",
            "_view_name": "StyleView",
            "description_width": ""
          }
        }
      }
    }
  },
  "cells": [
    {
      "cell_type": "markdown",
      "source": [
        "# Regular Expressions"
      ],
      "metadata": {
        "id": "bE8vm5oXq-i9"
      }
    },
    {
      "cell_type": "markdown",
      "source": [
        "# match( ) Function"
      ],
      "metadata": {
        "id": "rPd1mDXFl8ml"
      }
    },
    {
      "cell_type": "code",
      "source": [
        "import re\n",
        "\n",
        "pattern = '^a..s$'\n",
        "test_string = 'abyss'\n",
        "result = re.match(pattern, test_string)\n",
        "\n",
        "if result:\n",
        "  print(\"Search successful.\")\n",
        "else:\n",
        "  print(\"Search unsuccessful.\")"
      ],
      "metadata": {
        "id": "BDRV3eLrsBLa",
        "colab": {
          "base_uri": "https://localhost:8080/"
        },
        "outputId": "35dbc46f-169a-43ca-8351-12f4dd15cf24"
      },
      "execution_count": null,
      "outputs": [
        {
          "output_type": "stream",
          "name": "stdout",
          "text": [
            "Search unsuccessful.\n"
          ]
        }
      ]
    },
    {
      "cell_type": "code",
      "source": [
        "import re\n",
        "\n",
        "pattern = '^aa...ss$'\n",
        "test_string = 'aabyss'\n",
        "result = re.match(pattern, test_string)\n",
        "\n",
        "if result:\n",
        "  print(\"Search successful.\")\n",
        "else:\n",
        "  print(\"Search unsuccessful.\")"
      ],
      "metadata": {
        "id": "ZutS5DPtsbeu",
        "colab": {
          "base_uri": "https://localhost:8080/"
        },
        "outputId": "6ba1f1db-e9ca-46cc-80c6-84c75940d6fa"
      },
      "execution_count": null,
      "outputs": [
        {
          "output_type": "stream",
          "name": "stdout",
          "text": [
            "Search unsuccessful.\n"
          ]
        }
      ]
    },
    {
      "cell_type": "code",
      "source": [
        "import re\n",
        "\n",
        "pattern = '^a..ss$'\n",
        "test_string = 'abyss'\n",
        "result = re.match(pattern, test_string)\n",
        "\n",
        "if result:\n",
        "  print(\"Search successful.\")\n",
        "else:\n",
        "  print(\"Search unsuccessful.\")"
      ],
      "metadata": {
        "id": "cWT5zlZKsGjB",
        "colab": {
          "base_uri": "https://localhost:8080/"
        },
        "outputId": "9ac0c73a-6ca9-4cc7-b0ce-c5049d26d8db"
      },
      "execution_count": null,
      "outputs": [
        {
          "output_type": "stream",
          "name": "stdout",
          "text": [
            "Search successful.\n"
          ]
        }
      ]
    },
    {
      "cell_type": "markdown",
      "source": [
        "# findall( ) Function"
      ],
      "metadata": {
        "id": "Y3hmv4Fgmroe"
      }
    },
    {
      "cell_type": "code",
      "source": [
        "import re\n",
        "\n",
        "string = 'Hello 12, welcome 89. Goodbye34'\n",
        "pattern = '\\d+'\n",
        "\n",
        "result = re.findall(pattern, string)\n",
        "print(result)"
      ],
      "metadata": {
        "id": "6FYDyxatssT2",
        "colab": {
          "base_uri": "https://localhost:8080/"
        },
        "outputId": "b087667b-8bfa-4c69-989b-63867ed45130"
      },
      "execution_count": null,
      "outputs": [
        {
          "output_type": "stream",
          "name": "stdout",
          "text": [
            "['12', '89', '34']\n"
          ]
        }
      ]
    },
    {
      "cell_type": "markdown",
      "source": [
        "# split( ) Function"
      ],
      "metadata": {
        "id": "SlIRo6CbmZp3"
      }
    },
    {
      "cell_type": "code",
      "source": [
        "import re\n",
        "\n",
        "string = 'Twelve:12 Eighty nine:89.'\n",
        "pattern = '\\d+'\n",
        "\n",
        "result = re.split(pattern, string)\n",
        "print(result)\n"
      ],
      "metadata": {
        "id": "qhcelagutp1q",
        "colab": {
          "base_uri": "https://localhost:8080/"
        },
        "outputId": "47407a86-e122-427e-bc06-b66b5c053e80"
      },
      "execution_count": null,
      "outputs": [
        {
          "output_type": "stream",
          "name": "stdout",
          "text": [
            "['Twelve:', '', ' Eighty nine:', '', '.']\n"
          ]
        }
      ]
    },
    {
      "cell_type": "code",
      "source": [
        "import re\n",
        "\n",
        "string = 'Twelve:12 Eighty nine:89.'\n",
        "pattern = ':\\d+'\n",
        "\n",
        "result = re.split(pattern, string)\n",
        "print(result)"
      ],
      "metadata": {
        "id": "_CPNU7DSt0X9",
        "colab": {
          "base_uri": "https://localhost:8080/"
        },
        "outputId": "a2694008-857d-494f-b5e4-b6bca40a43fa"
      },
      "execution_count": null,
      "outputs": [
        {
          "output_type": "stream",
          "name": "stdout",
          "text": [
            "['Twelve', ' Eighty nine', '.']\n"
          ]
        }
      ]
    },
    {
      "cell_type": "markdown",
      "source": [
        "# sub( ) Function"
      ],
      "metadata": {
        "id": "SaiK7B38uNTo"
      }
    },
    {
      "cell_type": "code",
      "source": [
        "# remove all whitespaces\n",
        "import re\n",
        "\n",
        "# multiline string\n",
        "string = 'abc 12\\\n",
        "de 23 \\n f45 6'\n",
        "\n",
        "# pattern to match all whitespace characters\n",
        "pattern = '\\s+'\n",
        "\n",
        "# empty string\n",
        "replace = ''\n",
        "\n",
        "new_string = re.sub(pattern, replace, string)\n",
        "print(new_string)\n"
      ],
      "metadata": {
        "id": "nsN90n55t-Zz",
        "colab": {
          "base_uri": "https://localhost:8080/"
        },
        "outputId": "445f6689-815b-43ae-ec51-504a692740f7"
      },
      "execution_count": null,
      "outputs": [
        {
          "output_type": "stream",
          "name": "stdout",
          "text": [
            "abc12de23f456\n"
          ]
        }
      ]
    },
    {
      "cell_type": "code",
      "source": [
        "\n",
        "# add '-' to all whitespaces\n",
        "import re\n",
        "\n",
        "# multiline string\n",
        "string = ' abc 12\\\n",
        "de 23 \\n f45   6'\n",
        "\n",
        "# pattern to match all whitespace characters\n",
        "pattern = '\\s+'\n",
        "\n",
        "replace = '-'\n",
        "\n",
        "new_string = re.sub(pattern, replace, string)\n",
        "print(new_string)\n"
      ],
      "metadata": {
        "id": "djOyUUUuuM7d",
        "colab": {
          "base_uri": "https://localhost:8080/"
        },
        "outputId": "b767c2e7-049e-4456-b7e4-ba6d7d87e189"
      },
      "execution_count": null,
      "outputs": [
        {
          "output_type": "stream",
          "name": "stdout",
          "text": [
            "-abc-12de-23-f45-6\n"
          ]
        }
      ]
    },
    {
      "cell_type": "markdown",
      "source": [
        "# search( ) Function"
      ],
      "metadata": {
        "id": "JHIttuoouUDj"
      }
    },
    {
      "cell_type": "code",
      "source": [
        "import re\n",
        "\n",
        "string = \"Python is fun\"\n",
        "\n",
        "# check if 'Python' is at the beginning\n",
        "match = re.search('\\APython', string)\n",
        "\n",
        "if match:\n",
        "  print(\"pattern found inside the string\")\n",
        "else:\n",
        "  print(\"pattern not found\")\n"
      ],
      "metadata": {
        "id": "qlSf0o9uvEUh",
        "colab": {
          "base_uri": "https://localhost:8080/"
        },
        "outputId": "3aed1cf0-1a2f-47c7-c5a9-0bbfe9834e80"
      },
      "execution_count": null,
      "outputs": [
        {
          "output_type": "stream",
          "name": "stdout",
          "text": [
            "pattern found inside the string\n"
          ]
        }
      ]
    },
    {
      "cell_type": "code",
      "source": [
        "\n",
        "import re\n",
        "\n",
        "string = \"Fun is Python\"\n",
        "\n",
        "# check if 'Python' is at the beginning\n",
        "match = re.search('\\APython', string)\n",
        "\n",
        "if match:\n",
        "  print(\"pattern found inside the string\")\n",
        "else:\n",
        "  print(\"pattern not found\")\n"
      ],
      "metadata": {
        "id": "9xbACD77vZGD",
        "colab": {
          "base_uri": "https://localhost:8080/"
        },
        "outputId": "2181d125-c745-41d3-b3d0-5b756ed5debc"
      },
      "execution_count": null,
      "outputs": [
        {
          "output_type": "stream",
          "name": "stdout",
          "text": [
            "pattern not found\n"
          ]
        }
      ]
    },
    {
      "cell_type": "code",
      "source": [
        "import re\n",
        "\n",
        "string = \"Fun is Python\"\n",
        "\n",
        "# check if 'Python' is at the end\n",
        "match = re.search('Python\\Z', string)\n",
        "\n",
        "if match:\n",
        "  print(\"pattern found inside the string\")\n",
        "else:\n",
        "  print(\"pattern not found\")"
      ],
      "metadata": {
        "id": "N7v8y6yFwALF",
        "colab": {
          "base_uri": "https://localhost:8080/"
        },
        "outputId": "03c605e2-c039-4abf-968b-acc700fc796c"
      },
      "execution_count": null,
      "outputs": [
        {
          "output_type": "stream",
          "name": "stdout",
          "text": [
            "pattern found inside the string\n"
          ]
        }
      ]
    },
    {
      "cell_type": "markdown",
      "source": [
        "# Exercise 1\n",
        "Write a Python function that uses regular expressions to validate whether a given string is a valid email address. Assume letters, numbers and the special characters \".\" and \"-\" are allowed in the email address."
      ],
      "metadata": {
        "id": "Oejt7Yszxjf5"
      }
    },
    {
      "cell_type": "code",
      "source": [
        "import re\n",
        "\n",
        "def is_valid_email(email):\n",
        "\n",
        "    # regular expression pattern\n",
        "    pattern = r'^[a-zA-Z0-9.-]+@[a-zA-Z0-9.-]+\\.[a-zA-Z]{2,}$'\n",
        "\n",
        "    # check if the email matches the pattern\n",
        "    if re.match(pattern, email):\n",
        "        return True\n",
        "    else:\n",
        "        return False\n",
        "\n",
        "# example usage\n",
        "email1 = \"example@email.com\"\n",
        "email2 = \"invalid_email@.com\"\n",
        "email3 = \"another-example123@gmail.com.tr\"\n",
        "email4 = \"another-example+123@gmail.com\"\n",
        "\n",
        "print(is_valid_email(email1))\n",
        "print(is_valid_email(email2))\n",
        "print(is_valid_email(email3))\n",
        "print(is_valid_email(email4))\n"
      ],
      "metadata": {
        "id": "8_5nCNfBxUr0",
        "colab": {
          "base_uri": "https://localhost:8080/"
        },
        "outputId": "0690cb4c-6a17-4fad-ba52-c17e66f76ee7"
      },
      "execution_count": null,
      "outputs": [
        {
          "output_type": "stream",
          "name": "stdout",
          "text": [
            "True\n",
            "False\n",
            "True\n",
            "False\n"
          ]
        }
      ]
    },
    {
      "cell_type": "markdown",
      "source": [
        "# Simple Tokenization Example with nltk"
      ],
      "metadata": {
        "id": "LK-gIZSNuWVP"
      }
    },
    {
      "cell_type": "code",
      "source": [
        "from nltk.tokenize import RegexpTokenizer\n",
        "# instantiate the tokenize class with the regular expression rule as an argument\n",
        "tokenizer = RegexpTokenizer(\"[\\w']+\")\n",
        "# example text\n",
        "text = \"I won't stop learning about Artificial Intelligence\"\n",
        "# tokenize the text\n",
        "tokenizer.tokenize(text)"
      ],
      "metadata": {
        "id": "DlDGBMnPy7-r",
        "colab": {
          "base_uri": "https://localhost:8080/"
        },
        "outputId": "bfa82cad-bac8-4a11-f43c-852b2d84bc7e"
      },
      "execution_count": null,
      "outputs": [
        {
          "output_type": "execute_result",
          "data": {
            "text/plain": [
              "['I', \"won't\", 'stop', 'learning', 'about', 'Artificial', 'Intelligence']"
            ]
          },
          "metadata": {},
          "execution_count": 18
        }
      ]
    },
    {
      "cell_type": "markdown",
      "source": [
        "# Exercise 2\n",
        "Split the sentence into proper words using a different regular expression pattern. Make sure currency amount has been splitted properly. Also, you should make sure there are no empty strings due to the double white spaces."
      ],
      "metadata": {
        "id": "T3olrV_XreVt"
      }
    },
    {
      "cell_type": "code",
      "source": [
        "from nltk.tokenize import RegexpTokenizer\n",
        "s = \"Good muffins cost $3.88\\nin New York.  Please buy me\\ntwo of them.\\n\\nThanks.\"\n",
        "tokenizer = RegexpTokenizer(r'\\w+|\\$[\\d\\.]+')\n",
        "tokenizer.tokenize(s)"
      ],
      "metadata": {
        "id": "5ofav1wFzQNO",
        "colab": {
          "base_uri": "https://localhost:8080/"
        },
        "outputId": "00e11580-676b-4f79-a48b-74a87ed5a9b1"
      },
      "execution_count": null,
      "outputs": [
        {
          "output_type": "execute_result",
          "data": {
            "text/plain": [
              "['Good',\n",
              " 'muffins',\n",
              " 'cost',\n",
              " '$3.88',\n",
              " 'in',\n",
              " 'New',\n",
              " 'York',\n",
              " 'Please',\n",
              " 'buy',\n",
              " 'me',\n",
              " 'two',\n",
              " 'of',\n",
              " 'them',\n",
              " 'Thanks']"
            ]
          },
          "metadata": {},
          "execution_count": 20
        }
      ]
    },
    {
      "cell_type": "markdown",
      "source": [
        "# Text Normalization"
      ],
      "metadata": {
        "id": "02DljYiirYp9"
      }
    },
    {
      "cell_type": "code",
      "source": [
        "text = \"The quick BROWN Fox Jumps OVER the lazy dog.\"\n",
        "text = text.lower()\n",
        "print(text)"
      ],
      "metadata": {
        "id": "EGtVyQ0cz-3I",
        "colab": {
          "base_uri": "https://localhost:8080/"
        },
        "outputId": "ddbf8d05-eb57-4313-f4cb-d8f12628848c"
      },
      "execution_count": null,
      "outputs": [
        {
          "output_type": "stream",
          "name": "stdout",
          "text": [
            "the quick brown fox jumps over the lazy dog.\n"
          ]
        }
      ]
    },
    {
      "cell_type": "code",
      "source": [
        "import string\n",
        "import nltk\n",
        "\n",
        "text = \"The quick BROWN Fox; Jumps OVER, the lazy dog!!!\"\n",
        "text = text.translate(text.maketrans(\"\", \"\", string.punctuation))\n",
        "print(text)\n",
        "\n",
        "nltk.download('stopwords')"
      ],
      "metadata": {
        "id": "5mzziDEf1Woq",
        "colab": {
          "base_uri": "https://localhost:8080/"
        },
        "outputId": "943ebc25-a15c-43ae-e37d-6a13cfdb27fd"
      },
      "execution_count": null,
      "outputs": [
        {
          "output_type": "stream",
          "name": "stdout",
          "text": [
            "The quick BROWN Fox Jumps OVER the lazy dog\n"
          ]
        },
        {
          "output_type": "stream",
          "name": "stderr",
          "text": [
            "[nltk_data] Downloading package stopwords to /root/nltk_data...\n",
            "[nltk_data]   Unzipping corpora/stopwords.zip.\n"
          ]
        },
        {
          "output_type": "execute_result",
          "data": {
            "text/plain": [
              "True"
            ]
          },
          "metadata": {},
          "execution_count": 23
        }
      ]
    },
    {
      "cell_type": "code",
      "source": [
        "from nltk.corpus import stopwords\n",
        "import nltk\n",
        "\n",
        "text = \"the quick BROWN Fox Jumps OVER the lazy dog.\"\n",
        "stop_words = set(stopwords.words(\"english\"))\n",
        "words = text.split()\n",
        "filtered_words = [word for word in words if word not in stop_words]\n",
        "text = \" \".join(filtered_words)\n",
        "print(text)"
      ],
      "metadata": {
        "id": "uDm7lnGG1ZRu",
        "colab": {
          "base_uri": "https://localhost:8080/"
        },
        "outputId": "5092c229-3ae5-4356-8851-e0b79970eee0"
      },
      "execution_count": null,
      "outputs": [
        {
          "output_type": "stream",
          "name": "stdout",
          "text": [
            "quick BROWN Fox Jumps OVER lazy dog.\n"
          ]
        }
      ]
    },
    {
      "cell_type": "code",
      "source": [
        "from nltk.stem import PorterStemmer\n",
        "nltk.download('punkt')\n",
        "print()\n",
        "\n",
        "stemmer = PorterStemmer()\n",
        "text = \"running, runner, ran\"\n",
        "words = text.split(\",\")\n",
        "stemmed_words = [stemmer.stem(word) for word in words]\n",
        "text = \",\".join(stemmed_words)\n",
        "print(text)"
      ],
      "metadata": {
        "id": "4Cxy0jzb1fUu",
        "colab": {
          "base_uri": "https://localhost:8080/"
        },
        "outputId": "e45bf11e-f707-461b-b1cd-79035ed112b7"
      },
      "execution_count": null,
      "outputs": [
        {
          "output_type": "stream",
          "name": "stderr",
          "text": [
            "[nltk_data] Downloading package punkt to /root/nltk_data...\n",
            "[nltk_data]   Unzipping tokenizers/punkt.zip.\n"
          ]
        },
        {
          "output_type": "stream",
          "name": "stdout",
          "text": [
            "\n",
            "run, runner, ran\n"
          ]
        }
      ]
    },
    {
      "cell_type": "code",
      "source": [
        "from nltk.tokenize import word_tokenize\n",
        "text = \"The quick BROWN Fox Jumps OVER the lazy dog.\"\n",
        "tokens = word_tokenize(text)\n",
        "print(tokens)"
      ],
      "metadata": {
        "id": "yGEu8vIw1mGy",
        "colab": {
          "base_uri": "https://localhost:8080/"
        },
        "outputId": "d5954bf4-1f17-4d7d-da4b-a23384ac8fd2"
      },
      "execution_count": null,
      "outputs": [
        {
          "output_type": "stream",
          "name": "stdout",
          "text": [
            "['The', 'quick', 'BROWN', 'Fox', 'Jumps', 'OVER', 'the', 'lazy', 'dog', '.']\n"
          ]
        }
      ]
    },
    {
      "cell_type": "markdown",
      "source": [
        "# Example for Bigram Probability"
      ],
      "metadata": {
        "id": "USyks477tPfZ"
      }
    },
    {
      "cell_type": "code",
      "source": [
        "from collections import Counter\n",
        "import re\n",
        "\n",
        "def preprocess_text(text):\n",
        "    # remove non-alphabetic characters and convert to lowercase\n",
        "    text = re.sub(r'[^a-zA-Z\\s]', '', text)\n",
        "    return text.lower()\n",
        "\n",
        "def calculate_bigram_probabilities(text):\n",
        "    # preprocess the text\n",
        "    preprocessed_text = preprocess_text(text)\n",
        "\n",
        "    # tokenize the preprocessed text into words\n",
        "    words = preprocessed_text.split()\n",
        "\n",
        "    # generate bigrams\n",
        "    bigrams = list(zip(words, words[1:]))\n",
        "\n",
        "    # count the occurrences of each bigram\n",
        "    bigram_counts = Counter(bigrams)\n",
        "\n",
        "    # calculate the total number of bigrams\n",
        "    total_bigrams = len(bigrams)\n",
        "\n",
        "    # calculate the probability of each bigram\n",
        "    bigram_probabilities = {bigram: count / total_bigrams for bigram, count in bigram_counts.items()}\n",
        "\n",
        "    return bigram_probabilities\n",
        "\n",
        "if __name__ == \"__main__\":\n",
        "    # example text\n",
        "    input_text = \"\"\"\n",
        "    Natural language processing (NLP) is a field of artificial intelligence that focuses on the interaction between computers and humans using natural language. It encompasses a wide range of tasks, including speech recognition, machine translation, sentiment analysis, and more.\n",
        "\n",
        "    Bigram language models are a simple yet effective approach to understanding the likelihood of word sequences in a given text. This script demonstrates the estimation of bigram probabilities using a sample text. Feel free to replace this text with your own to explore the bigram probabilities in different contexts.\n",
        "\n",
        "    The quick brown fox jumps over the lazy dog. The lazy dog, in turn, barks at the passing cars. Cars speed along the highway, creating a constant hum of traffic noise.\n",
        "\n",
        "    Probability estimation plays a crucial role in language modeling and natural language processing applications. By analyzing bigram probabilities, we gain insights into the patterns and relationships between consecutive words in a text, which can be utilized in various language-related tasks.\n",
        "\n",
        "    Explore and experiment with different sample texts to observe how the bigram probabilities change based on the context and content of the input text.\n",
        "    \"\"\"\n",
        "\n",
        "    # calculate bigram probabilities\n",
        "    result = calculate_bigram_probabilities(input_text)\n",
        "\n",
        "    # display the results\n",
        "    for bigram, probability in result.items():\n",
        "        print(f\"Bigram: {bigram}, Probability: {probability:.4f}\")\n"
      ],
      "metadata": {
        "id": "PKXg307BoJtB",
        "colab": {
          "base_uri": "https://localhost:8080/"
        },
        "outputId": "5e8d2da0-a263-4fba-98c4-342378c395f3"
      },
      "execution_count": null,
      "outputs": [
        {
          "output_type": "stream",
          "name": "stdout",
          "text": [
            "Bigram: ('natural', 'language'), Probability: 0.0166\n",
            "Bigram: ('language', 'processing'), Probability: 0.0110\n",
            "Bigram: ('processing', 'nlp'), Probability: 0.0055\n",
            "Bigram: ('nlp', 'is'), Probability: 0.0055\n",
            "Bigram: ('is', 'a'), Probability: 0.0055\n",
            "Bigram: ('a', 'field'), Probability: 0.0055\n",
            "Bigram: ('field', 'of'), Probability: 0.0055\n",
            "Bigram: ('of', 'artificial'), Probability: 0.0055\n",
            "Bigram: ('artificial', 'intelligence'), Probability: 0.0055\n",
            "Bigram: ('intelligence', 'that'), Probability: 0.0055\n",
            "Bigram: ('that', 'focuses'), Probability: 0.0055\n",
            "Bigram: ('focuses', 'on'), Probability: 0.0055\n",
            "Bigram: ('on', 'the'), Probability: 0.0110\n",
            "Bigram: ('the', 'interaction'), Probability: 0.0055\n",
            "Bigram: ('interaction', 'between'), Probability: 0.0055\n",
            "Bigram: ('between', 'computers'), Probability: 0.0055\n",
            "Bigram: ('computers', 'and'), Probability: 0.0055\n",
            "Bigram: ('and', 'humans'), Probability: 0.0055\n",
            "Bigram: ('humans', 'using'), Probability: 0.0055\n",
            "Bigram: ('using', 'natural'), Probability: 0.0055\n",
            "Bigram: ('language', 'it'), Probability: 0.0055\n",
            "Bigram: ('it', 'encompasses'), Probability: 0.0055\n",
            "Bigram: ('encompasses', 'a'), Probability: 0.0055\n",
            "Bigram: ('a', 'wide'), Probability: 0.0055\n",
            "Bigram: ('wide', 'range'), Probability: 0.0055\n",
            "Bigram: ('range', 'of'), Probability: 0.0055\n",
            "Bigram: ('of', 'tasks'), Probability: 0.0055\n",
            "Bigram: ('tasks', 'including'), Probability: 0.0055\n",
            "Bigram: ('including', 'speech'), Probability: 0.0055\n",
            "Bigram: ('speech', 'recognition'), Probability: 0.0055\n",
            "Bigram: ('recognition', 'machine'), Probability: 0.0055\n",
            "Bigram: ('machine', 'translation'), Probability: 0.0055\n",
            "Bigram: ('translation', 'sentiment'), Probability: 0.0055\n",
            "Bigram: ('sentiment', 'analysis'), Probability: 0.0055\n",
            "Bigram: ('analysis', 'and'), Probability: 0.0055\n",
            "Bigram: ('and', 'more'), Probability: 0.0055\n",
            "Bigram: ('more', 'bigram'), Probability: 0.0055\n",
            "Bigram: ('bigram', 'language'), Probability: 0.0055\n",
            "Bigram: ('language', 'models'), Probability: 0.0055\n",
            "Bigram: ('models', 'are'), Probability: 0.0055\n",
            "Bigram: ('are', 'a'), Probability: 0.0055\n",
            "Bigram: ('a', 'simple'), Probability: 0.0055\n",
            "Bigram: ('simple', 'yet'), Probability: 0.0055\n",
            "Bigram: ('yet', 'effective'), Probability: 0.0055\n",
            "Bigram: ('effective', 'approach'), Probability: 0.0055\n",
            "Bigram: ('approach', 'to'), Probability: 0.0055\n",
            "Bigram: ('to', 'understanding'), Probability: 0.0055\n",
            "Bigram: ('understanding', 'the'), Probability: 0.0055\n",
            "Bigram: ('the', 'likelihood'), Probability: 0.0055\n",
            "Bigram: ('likelihood', 'of'), Probability: 0.0055\n",
            "Bigram: ('of', 'word'), Probability: 0.0055\n",
            "Bigram: ('word', 'sequences'), Probability: 0.0055\n",
            "Bigram: ('sequences', 'in'), Probability: 0.0055\n",
            "Bigram: ('in', 'a'), Probability: 0.0110\n",
            "Bigram: ('a', 'given'), Probability: 0.0055\n",
            "Bigram: ('given', 'text'), Probability: 0.0055\n",
            "Bigram: ('text', 'this'), Probability: 0.0055\n",
            "Bigram: ('this', 'script'), Probability: 0.0055\n",
            "Bigram: ('script', 'demonstrates'), Probability: 0.0055\n",
            "Bigram: ('demonstrates', 'the'), Probability: 0.0055\n",
            "Bigram: ('the', 'estimation'), Probability: 0.0055\n",
            "Bigram: ('estimation', 'of'), Probability: 0.0055\n",
            "Bigram: ('of', 'bigram'), Probability: 0.0055\n",
            "Bigram: ('bigram', 'probabilities'), Probability: 0.0221\n",
            "Bigram: ('probabilities', 'using'), Probability: 0.0055\n",
            "Bigram: ('using', 'a'), Probability: 0.0055\n",
            "Bigram: ('a', 'sample'), Probability: 0.0055\n",
            "Bigram: ('sample', 'text'), Probability: 0.0055\n",
            "Bigram: ('text', 'feel'), Probability: 0.0055\n",
            "Bigram: ('feel', 'free'), Probability: 0.0055\n",
            "Bigram: ('free', 'to'), Probability: 0.0055\n",
            "Bigram: ('to', 'replace'), Probability: 0.0055\n",
            "Bigram: ('replace', 'this'), Probability: 0.0055\n",
            "Bigram: ('this', 'text'), Probability: 0.0055\n",
            "Bigram: ('text', 'with'), Probability: 0.0055\n",
            "Bigram: ('with', 'your'), Probability: 0.0055\n",
            "Bigram: ('your', 'own'), Probability: 0.0055\n",
            "Bigram: ('own', 'to'), Probability: 0.0055\n",
            "Bigram: ('to', 'explore'), Probability: 0.0055\n",
            "Bigram: ('explore', 'the'), Probability: 0.0055\n",
            "Bigram: ('the', 'bigram'), Probability: 0.0110\n",
            "Bigram: ('probabilities', 'in'), Probability: 0.0055\n",
            "Bigram: ('in', 'different'), Probability: 0.0055\n",
            "Bigram: ('different', 'contexts'), Probability: 0.0055\n",
            "Bigram: ('contexts', 'the'), Probability: 0.0055\n",
            "Bigram: ('the', 'quick'), Probability: 0.0055\n",
            "Bigram: ('quick', 'brown'), Probability: 0.0055\n",
            "Bigram: ('brown', 'fox'), Probability: 0.0055\n",
            "Bigram: ('fox', 'jumps'), Probability: 0.0055\n",
            "Bigram: ('jumps', 'over'), Probability: 0.0055\n",
            "Bigram: ('over', 'the'), Probability: 0.0055\n",
            "Bigram: ('the', 'lazy'), Probability: 0.0110\n",
            "Bigram: ('lazy', 'dog'), Probability: 0.0110\n",
            "Bigram: ('dog', 'the'), Probability: 0.0055\n",
            "Bigram: ('dog', 'in'), Probability: 0.0055\n",
            "Bigram: ('in', 'turn'), Probability: 0.0055\n",
            "Bigram: ('turn', 'barks'), Probability: 0.0055\n",
            "Bigram: ('barks', 'at'), Probability: 0.0055\n",
            "Bigram: ('at', 'the'), Probability: 0.0055\n",
            "Bigram: ('the', 'passing'), Probability: 0.0055\n",
            "Bigram: ('passing', 'cars'), Probability: 0.0055\n",
            "Bigram: ('cars', 'cars'), Probability: 0.0055\n",
            "Bigram: ('cars', 'speed'), Probability: 0.0055\n",
            "Bigram: ('speed', 'along'), Probability: 0.0055\n",
            "Bigram: ('along', 'the'), Probability: 0.0055\n",
            "Bigram: ('the', 'highway'), Probability: 0.0055\n",
            "Bigram: ('highway', 'creating'), Probability: 0.0055\n",
            "Bigram: ('creating', 'a'), Probability: 0.0055\n",
            "Bigram: ('a', 'constant'), Probability: 0.0055\n",
            "Bigram: ('constant', 'hum'), Probability: 0.0055\n",
            "Bigram: ('hum', 'of'), Probability: 0.0055\n",
            "Bigram: ('of', 'traffic'), Probability: 0.0055\n",
            "Bigram: ('traffic', 'noise'), Probability: 0.0055\n",
            "Bigram: ('noise', 'probability'), Probability: 0.0055\n",
            "Bigram: ('probability', 'estimation'), Probability: 0.0055\n",
            "Bigram: ('estimation', 'plays'), Probability: 0.0055\n",
            "Bigram: ('plays', 'a'), Probability: 0.0055\n",
            "Bigram: ('a', 'crucial'), Probability: 0.0055\n",
            "Bigram: ('crucial', 'role'), Probability: 0.0055\n",
            "Bigram: ('role', 'in'), Probability: 0.0055\n",
            "Bigram: ('in', 'language'), Probability: 0.0055\n",
            "Bigram: ('language', 'modeling'), Probability: 0.0055\n",
            "Bigram: ('modeling', 'and'), Probability: 0.0055\n",
            "Bigram: ('and', 'natural'), Probability: 0.0055\n",
            "Bigram: ('processing', 'applications'), Probability: 0.0055\n",
            "Bigram: ('applications', 'by'), Probability: 0.0055\n",
            "Bigram: ('by', 'analyzing'), Probability: 0.0055\n",
            "Bigram: ('analyzing', 'bigram'), Probability: 0.0055\n",
            "Bigram: ('probabilities', 'we'), Probability: 0.0055\n",
            "Bigram: ('we', 'gain'), Probability: 0.0055\n",
            "Bigram: ('gain', 'insights'), Probability: 0.0055\n",
            "Bigram: ('insights', 'into'), Probability: 0.0055\n",
            "Bigram: ('into', 'the'), Probability: 0.0055\n",
            "Bigram: ('the', 'patterns'), Probability: 0.0055\n",
            "Bigram: ('patterns', 'and'), Probability: 0.0055\n",
            "Bigram: ('and', 'relationships'), Probability: 0.0055\n",
            "Bigram: ('relationships', 'between'), Probability: 0.0055\n",
            "Bigram: ('between', 'consecutive'), Probability: 0.0055\n",
            "Bigram: ('consecutive', 'words'), Probability: 0.0055\n",
            "Bigram: ('words', 'in'), Probability: 0.0055\n",
            "Bigram: ('a', 'text'), Probability: 0.0055\n",
            "Bigram: ('text', 'which'), Probability: 0.0055\n",
            "Bigram: ('which', 'can'), Probability: 0.0055\n",
            "Bigram: ('can', 'be'), Probability: 0.0055\n",
            "Bigram: ('be', 'utilized'), Probability: 0.0055\n",
            "Bigram: ('utilized', 'in'), Probability: 0.0055\n",
            "Bigram: ('in', 'various'), Probability: 0.0055\n",
            "Bigram: ('various', 'languagerelated'), Probability: 0.0055\n",
            "Bigram: ('languagerelated', 'tasks'), Probability: 0.0055\n",
            "Bigram: ('tasks', 'explore'), Probability: 0.0055\n",
            "Bigram: ('explore', 'and'), Probability: 0.0055\n",
            "Bigram: ('and', 'experiment'), Probability: 0.0055\n",
            "Bigram: ('experiment', 'with'), Probability: 0.0055\n",
            "Bigram: ('with', 'different'), Probability: 0.0055\n",
            "Bigram: ('different', 'sample'), Probability: 0.0055\n",
            "Bigram: ('sample', 'texts'), Probability: 0.0055\n",
            "Bigram: ('texts', 'to'), Probability: 0.0055\n",
            "Bigram: ('to', 'observe'), Probability: 0.0055\n",
            "Bigram: ('observe', 'how'), Probability: 0.0055\n",
            "Bigram: ('how', 'the'), Probability: 0.0055\n",
            "Bigram: ('probabilities', 'change'), Probability: 0.0055\n",
            "Bigram: ('change', 'based'), Probability: 0.0055\n",
            "Bigram: ('based', 'on'), Probability: 0.0055\n",
            "Bigram: ('the', 'context'), Probability: 0.0055\n",
            "Bigram: ('context', 'and'), Probability: 0.0055\n",
            "Bigram: ('and', 'content'), Probability: 0.0055\n",
            "Bigram: ('content', 'of'), Probability: 0.0055\n",
            "Bigram: ('of', 'the'), Probability: 0.0055\n",
            "Bigram: ('the', 'input'), Probability: 0.0055\n",
            "Bigram: ('input', 'text'), Probability: 0.0055\n"
          ]
        }
      ]
    },
    {
      "cell_type": "markdown",
      "source": [
        "# Practical Example for Perplexity"
      ],
      "metadata": {
        "id": "bb6f0QRgq-Kj"
      }
    },
    {
      "cell_type": "code",
      "source": [
        "import torch\n",
        "from transformers import AutoModelForCausalLM, AutoTokenizer\n",
        "model = AutoModelForCausalLM.from_pretrained(\"gpt2\")\n",
        "tokenizer = AutoTokenizer.from_pretrained(\"gpt2\")\n",
        "\n",
        "inputs = tokenizer(\"ABC is a startup based in New York City and Paris\", return_tensors = \"pt\")\n",
        "loss = model(input_ids = inputs[\"input_ids\"], labels = inputs[\"input_ids\"]).loss\n",
        "ppl = torch.exp(loss)\n",
        "print(ppl)\n",
        "\n",
        "inputs_wiki_text = tokenizer(\"Generative Pretrained Transformer is an opensource artificial intelligence created by OpenAI in February 2019\", return_tensors = \"pt\")\n",
        "loss = model(input_ids = inputs_wiki_text[\"input_ids\"], labels = inputs_wiki_text[\"input_ids\"]).loss\n",
        "ppl = torch.exp(loss)\n",
        "print(ppl)"
      ],
      "metadata": {
        "id": "jPkx5alZql1f",
        "colab": {
          "base_uri": "https://localhost:8080/",
          "height": 400,
          "referenced_widgets": [
            "2a4170d6e97e43d3adff6ab9fe5044cf",
            "f0e0577f46144b29b76d90bff685cd4b",
            "6c173b0d92114374b71756a9d35f0928",
            "409e81d5819f46198f48aa67a151589e",
            "350d8824a15745398eac8399ece6026f",
            "8e764ecfb10149beac77d7fe96869057",
            "9aa5f41f5a5f4a49ad4b0fb32a2012c2",
            "06b7f53c53834f6db3f8172faefd60c3",
            "518365e0b3454d5487e0b523285f5339",
            "a1ec43f6881944fcb50b85307378e04f",
            "ed348221628840caafeea845d8176dc9",
            "831c4955f341499ab8e30beca84927b7",
            "975c2f6b88c54b9883e71d4668b4e532",
            "b429f065e0664bbd88ea96ff21aa506f",
            "d9636a1665f24898816e1e4c3ca60a8d",
            "79a17a21f6d44c57866b9e1d3060e87f",
            "4335e1be4cb34be89b457c7d1a63fe90",
            "c22092e92a3f4ec694333ba393610675",
            "0c18fc598543440ca16781e82c89e189",
            "d8e320de97704e469aa8cfb60ac0d8df",
            "cef18799c85f45458e9238432f46f58e",
            "5dc4d2e4dd1b4837acb639afbd767a9c",
            "23d4a13a6fd049fe91003b70d1c183b1",
            "674f3d4cd02e4946abc0d00dee4c98ee",
            "47dd3a66d83b492aba50b59a9693c4f1",
            "235cded69ed8437e8fdc2ad6bdffb43e",
            "f750ecad872c49cda0c40e99f2f51246",
            "ba1dba5e32b34e3c97efa251e0bee271",
            "de22d7e0500544d086b59caf10944ee4",
            "f4e3bff96a31414aa3050aaf70df70d5",
            "af14f55d8dc6493eb1a0b94431aa1337",
            "ae4dc4c70442438b8abf603ccd509255",
            "989b0b2e52fe4cf0a5109e4066cd7c7a",
            "2ff427b2199046c18eb4f678f8a6d794",
            "5c8df8ccdd2f490cb61e5222128510e6",
            "11024f859ba8432797c4d4ef5c202a31",
            "37c6fd86e3f14961af610ddc00099bed",
            "f0a37dee9e8e4d1c9546a9963cfaa894",
            "ea465e0f36fd4151892b90d660f99d91",
            "5c3f10be9ddd4874bc0a0ec6299de8d4",
            "21c50c00ebc346bc84c7fcf538e7171c",
            "b3cf7daca05b4bb89a0e64a953869a3e",
            "6fe401acaf454c8ca0a5b0dc36ea04d2",
            "7032f9ef749e4c54b2df8bd0eb2b5705",
            "e21275ae15634bfe9c5371742cda22f5",
            "17c7e598d5af4345a253e05dda50876b",
            "661d23689f494a48a732e93dfff79d67",
            "ce146b1f0d3744df80605a0fbcf4f31b",
            "92c0286c8717490fb967d1e45998876c",
            "9d385cf7019448a68f60925076dc6660",
            "f1a41bf9342347b9a23991abb9bbbe90",
            "4122f3b07230439ab3df022b7c7249d1",
            "3ad6d08b75ec4a14b18b090c53c1ecce",
            "3c33c5b95f7740b5a81de1d12a709bbc",
            "ba67a3ca97b7448e86e0678d315fd24d",
            "005e75beb2774932a1fef2f448b763cb",
            "f28ab4fa4b3c49a7a466560263d5da6e",
            "2c592d3d672744cf9ca21af9417d19db",
            "cd7804d98acc453aba5d1914504da4f2",
            "be78b08aea50482081d3d85e3beb123e",
            "cdf3f60e536b47979cfbb2bae328ae67",
            "266ed5184ff843df85987e657a6ee4e6",
            "b979ce444df44536b645b7d4ad282294",
            "54e8310ff1a74787851378168c15ff96",
            "d110ec62e4f3428e9c5b281006b80b58",
            "de102c143565401ea234b2d0bdbdb946",
            "215325e7b8bb4010bd3188500a32a025",
            "2a81375e1c3e4eed9c744c35a5726552",
            "507f96ac53fe48eba1d76042823c8081",
            "de40c092ea19417ea494283b6d8b274f",
            "ed9e097c7ed34e648e0c30ad6f5ed9cb",
            "f9019128d5f7454094e8f497997ccdcf",
            "637ab1aa099843d292bb19137ae733e7",
            "cdc45f0f227e4484969a19d0c12d6351",
            "32ea6d66269044d1b3b9afb4e90e5c41",
            "c6ff7ade41b749b693b59cee29a069b0",
            "d0104321caf34e8296476f0b56084b93"
          ]
        },
        "outputId": "9ad2e48a-0224-458e-dbb5-ca3781021abd"
      },
      "execution_count": null,
      "outputs": [
        {
          "output_type": "stream",
          "name": "stderr",
          "text": [
            "/usr/local/lib/python3.10/dist-packages/huggingface_hub/utils/_token.py:88: UserWarning: \n",
            "The secret `HF_TOKEN` does not exist in your Colab secrets.\n",
            "To authenticate with the Hugging Face Hub, create a token in your settings tab (https://huggingface.co/settings/tokens), set it as secret in your Google Colab and restart your session.\n",
            "You will be able to reuse this secret in all of your notebooks.\n",
            "Please note that authentication is recommended but still optional to access public models or datasets.\n",
            "  warnings.warn(\n"
          ]
        },
        {
          "output_type": "display_data",
          "data": {
            "text/plain": [
              "config.json:   0%|          | 0.00/665 [00:00<?, ?B/s]"
            ],
            "application/vnd.jupyter.widget-view+json": {
              "version_major": 2,
              "version_minor": 0,
              "model_id": "2a4170d6e97e43d3adff6ab9fe5044cf"
            }
          },
          "metadata": {}
        },
        {
          "output_type": "display_data",
          "data": {
            "text/plain": [
              "model.safetensors:   0%|          | 0.00/548M [00:00<?, ?B/s]"
            ],
            "application/vnd.jupyter.widget-view+json": {
              "version_major": 2,
              "version_minor": 0,
              "model_id": "831c4955f341499ab8e30beca84927b7"
            }
          },
          "metadata": {}
        },
        {
          "output_type": "display_data",
          "data": {
            "text/plain": [
              "generation_config.json:   0%|          | 0.00/124 [00:00<?, ?B/s]"
            ],
            "application/vnd.jupyter.widget-view+json": {
              "version_major": 2,
              "version_minor": 0,
              "model_id": "23d4a13a6fd049fe91003b70d1c183b1"
            }
          },
          "metadata": {}
        },
        {
          "output_type": "display_data",
          "data": {
            "text/plain": [
              "tokenizer_config.json:   0%|          | 0.00/26.0 [00:00<?, ?B/s]"
            ],
            "application/vnd.jupyter.widget-view+json": {
              "version_major": 2,
              "version_minor": 0,
              "model_id": "2ff427b2199046c18eb4f678f8a6d794"
            }
          },
          "metadata": {}
        },
        {
          "output_type": "display_data",
          "data": {
            "text/plain": [
              "vocab.json:   0%|          | 0.00/1.04M [00:00<?, ?B/s]"
            ],
            "application/vnd.jupyter.widget-view+json": {
              "version_major": 2,
              "version_minor": 0,
              "model_id": "e21275ae15634bfe9c5371742cda22f5"
            }
          },
          "metadata": {}
        },
        {
          "output_type": "display_data",
          "data": {
            "text/plain": [
              "merges.txt:   0%|          | 0.00/456k [00:00<?, ?B/s]"
            ],
            "application/vnd.jupyter.widget-view+json": {
              "version_major": 2,
              "version_minor": 0,
              "model_id": "005e75beb2774932a1fef2f448b763cb"
            }
          },
          "metadata": {}
        },
        {
          "output_type": "display_data",
          "data": {
            "text/plain": [
              "tokenizer.json:   0%|          | 0.00/1.36M [00:00<?, ?B/s]"
            ],
            "application/vnd.jupyter.widget-view+json": {
              "version_major": 2,
              "version_minor": 0,
              "model_id": "215325e7b8bb4010bd3188500a32a025"
            }
          },
          "metadata": {}
        },
        {
          "output_type": "stream",
          "name": "stdout",
          "text": [
            "tensor(29.4840, grad_fn=<ExpBackward0>)\n",
            "tensor(211.8136, grad_fn=<ExpBackward0>)\n"
          ]
        }
      ]
    }
  ]
}